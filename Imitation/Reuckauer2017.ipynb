{
  "nbformat": 4,
  "nbformat_minor": 0,
  "metadata": {
    "colab": {
      "provenance": [],
      "collapsed_sections": [
        "Igaxi-EHm-26",
        "8VgxTYzDnkc8",
        "ueRdzSC7aBdi",
        "pUc_8co4gDjw"
      ],
      "authorship_tag": "ABX9TyMyoV+WvJ1kpr5uBORxx85L",
      "include_colab_link": true
    },
    "kernelspec": {
      "name": "python3",
      "display_name": "Python 3"
    },
    "language_info": {
      "name": "python"
    }
  },
  "cells": [
    {
      "cell_type": "markdown",
      "metadata": {
        "id": "view-in-github",
        "colab_type": "text"
      },
      "source": [
        "<a href=\"https://colab.research.google.com/github/TK-brsq/Research/blob/main/Reuckauer2017.ipynb\" target=\"_parent\"><img src=\"https://colab.research.google.com/assets/colab-badge.svg\" alt=\"Open In Colab\"/></a>"
      ]
    },
    {
      "cell_type": "markdown",
      "source": [
        "**Conversion of Continuous-Valued Deep Network to Efficient Event-Driven Network for Image Classification**"
      ],
      "metadata": {
        "id": "oPnK9qJ5mhHG"
      }
    },
    {
      "cell_type": "markdown",
      "source": [
        "# 1. Import"
      ],
      "metadata": {
        "id": "Igaxi-EHm-26"
      }
    },
    {
      "cell_type": "code",
      "source": [
        "!pip install snntorch"
      ],
      "metadata": {
        "colab": {
          "base_uri": "https://localhost:8080/"
        },
        "collapsed": true,
        "id": "PY7C3ZmFfYAi",
        "outputId": "61221fc4-1177-41bf-8b4d-9b104efb2192"
      },
      "execution_count": null,
      "outputs": [
        {
          "output_type": "stream",
          "name": "stdout",
          "text": [
            "Collecting snntorch\n",
            "  Downloading snntorch-0.9.1-py2.py3-none-any.whl.metadata (16 kB)\n",
            "Requirement already satisfied: torch>=1.1.0 in /usr/local/lib/python3.10/dist-packages (from snntorch) (2.4.0+cu121)\n",
            "Requirement already satisfied: pandas in /usr/local/lib/python3.10/dist-packages (from snntorch) (2.1.4)\n",
            "Requirement already satisfied: matplotlib in /usr/local/lib/python3.10/dist-packages (from snntorch) (3.7.1)\n",
            "Requirement already satisfied: numpy>=1.17 in /usr/local/lib/python3.10/dist-packages (from snntorch) (1.26.4)\n",
            "Collecting nir (from snntorch)\n",
            "  Downloading nir-1.0.4-py3-none-any.whl.metadata (5.8 kB)\n",
            "Collecting nirtorch (from snntorch)\n",
            "  Downloading nirtorch-1.0-py3-none-any.whl.metadata (3.6 kB)\n",
            "Requirement already satisfied: filelock in /usr/local/lib/python3.10/dist-packages (from torch>=1.1.0->snntorch) (3.16.0)\n",
            "Requirement already satisfied: typing-extensions>=4.8.0 in /usr/local/lib/python3.10/dist-packages (from torch>=1.1.0->snntorch) (4.12.2)\n",
            "Requirement already satisfied: sympy in /usr/local/lib/python3.10/dist-packages (from torch>=1.1.0->snntorch) (1.13.2)\n",
            "Requirement already satisfied: networkx in /usr/local/lib/python3.10/dist-packages (from torch>=1.1.0->snntorch) (3.3)\n",
            "Requirement already satisfied: jinja2 in /usr/local/lib/python3.10/dist-packages (from torch>=1.1.0->snntorch) (3.1.4)\n",
            "Requirement already satisfied: fsspec in /usr/local/lib/python3.10/dist-packages (from torch>=1.1.0->snntorch) (2024.6.1)\n",
            "Requirement already satisfied: contourpy>=1.0.1 in /usr/local/lib/python3.10/dist-packages (from matplotlib->snntorch) (1.3.0)\n",
            "Requirement already satisfied: cycler>=0.10 in /usr/local/lib/python3.10/dist-packages (from matplotlib->snntorch) (0.12.1)\n",
            "Requirement already satisfied: fonttools>=4.22.0 in /usr/local/lib/python3.10/dist-packages (from matplotlib->snntorch) (4.53.1)\n",
            "Requirement already satisfied: kiwisolver>=1.0.1 in /usr/local/lib/python3.10/dist-packages (from matplotlib->snntorch) (1.4.7)\n",
            "Requirement already satisfied: packaging>=20.0 in /usr/local/lib/python3.10/dist-packages (from matplotlib->snntorch) (24.1)\n",
            "Requirement already satisfied: pillow>=6.2.0 in /usr/local/lib/python3.10/dist-packages (from matplotlib->snntorch) (9.4.0)\n",
            "Requirement already satisfied: pyparsing>=2.3.1 in /usr/local/lib/python3.10/dist-packages (from matplotlib->snntorch) (3.1.4)\n",
            "Requirement already satisfied: python-dateutil>=2.7 in /usr/local/lib/python3.10/dist-packages (from matplotlib->snntorch) (2.8.2)\n",
            "Requirement already satisfied: h5py in /usr/local/lib/python3.10/dist-packages (from nir->snntorch) (3.11.0)\n",
            "Requirement already satisfied: pytz>=2020.1 in /usr/local/lib/python3.10/dist-packages (from pandas->snntorch) (2024.1)\n",
            "Requirement already satisfied: tzdata>=2022.1 in /usr/local/lib/python3.10/dist-packages (from pandas->snntorch) (2024.1)\n",
            "Requirement already satisfied: six>=1.5 in /usr/local/lib/python3.10/dist-packages (from python-dateutil>=2.7->matplotlib->snntorch) (1.16.0)\n",
            "Requirement already satisfied: MarkupSafe>=2.0 in /usr/local/lib/python3.10/dist-packages (from jinja2->torch>=1.1.0->snntorch) (2.1.5)\n",
            "Requirement already satisfied: mpmath<1.4,>=1.1.0 in /usr/local/lib/python3.10/dist-packages (from sympy->torch>=1.1.0->snntorch) (1.3.0)\n",
            "Downloading snntorch-0.9.1-py2.py3-none-any.whl (125 kB)\n",
            "\u001b[2K   \u001b[90m━━━━━━━━━━━━━━━━━━━━━━━━━━━━━━━━━━━━━━━━\u001b[0m \u001b[32m125.3/125.3 kB\u001b[0m \u001b[31m1.1 MB/s\u001b[0m eta \u001b[36m0:00:00\u001b[0m\n",
            "\u001b[?25hDownloading nir-1.0.4-py3-none-any.whl (18 kB)\n",
            "Downloading nirtorch-1.0-py3-none-any.whl (13 kB)\n",
            "Installing collected packages: nir, nirtorch, snntorch\n",
            "Successfully installed nir-1.0.4 nirtorch-1.0 snntorch-0.9.1\n"
          ]
        }
      ]
    },
    {
      "cell_type": "code",
      "execution_count": null,
      "metadata": {
        "id": "oWWaj8mPmCbp"
      },
      "outputs": [],
      "source": [
        "import torch\n",
        "import torch.nn as nn\n",
        "import torch.optim as optim\n",
        "import torch.optim.lr_scheduler as lr_scheduler\n",
        "import torch.utils as utils\n",
        "from torch.utils.data import DataLoader\n",
        "\n",
        "import torchvision\n",
        "from torchvision import datasets, transforms\n",
        "\n",
        "from tqdm import tqdm\n",
        "import numpy as np\n",
        "\n",
        "import snntorch as snn\n",
        "import snntorch.functional as sF\n",
        "import snntorch.utils as sutils"
      ]
    },
    {
      "cell_type": "markdown",
      "source": [
        "# 2. Data"
      ],
      "metadata": {
        "id": "8VgxTYzDnkc8"
      }
    },
    {
      "cell_type": "code",
      "source": [
        "transform = transforms.Compose([transforms.ToTensor(), transforms.Normalize((0.5, 0.5, 0.5), (0.25, 0.25, 0.25))])\n",
        "\n",
        "train = datasets.CIFAR10(root='./data', train=True, transform=transform, download=True)\n",
        "test = datasets.CIFAR10(root='./data', train=False, transform=transform, download=True)\n",
        "\n",
        "train_loader = DataLoader(train, batch_size=64, shuffle=True)\n",
        "test_loader = DataLoader(test, batch_size=64, shuffle=True)"
      ],
      "metadata": {
        "colab": {
          "base_uri": "https://localhost:8080/"
        },
        "id": "JJh1HEZ6njiI",
        "outputId": "0923c7ee-4601-45b6-a4eb-2056fb3eb07d",
        "collapsed": true
      },
      "execution_count": null,
      "outputs": [
        {
          "output_type": "stream",
          "name": "stdout",
          "text": [
            "Downloading https://www.cs.toronto.edu/~kriz/cifar-10-python.tar.gz to ./data/cifar-10-python.tar.gz\n"
          ]
        },
        {
          "output_type": "stream",
          "name": "stderr",
          "text": [
            "100%|██████████| 170498071/170498071 [00:02<00:00, 68753722.88it/s]\n"
          ]
        },
        {
          "output_type": "stream",
          "name": "stdout",
          "text": [
            "Extracting ./data/cifar-10-python.tar.gz to ./data\n",
            "Files already downloaded and verified\n"
          ]
        }
      ]
    },
    {
      "cell_type": "markdown",
      "source": [
        "# 3. CNN"
      ],
      "metadata": {
        "id": "ueRdzSC7aBdi"
      }
    },
    {
      "cell_type": "code",
      "source": [
        "cnn = nn.Sequential(\n",
        "    nn.Conv2d(3, 32, 3, padding=1, bias=False),\n",
        "    nn.ReLU(),\n",
        "    nn.Conv2d(32, 32, 3, padding=1, bias=False),\n",
        "    nn.ReLU(),\n",
        "    nn.AvgPool2d(2),\n",
        "    nn.Conv2d(32, 64, 3, padding=1, bias=False),\n",
        "    nn.ReLU(),\n",
        "    nn.Conv2d(64, 64, 3, padding=1, bias=False),\n",
        "    nn.ReLU(),\n",
        "    nn.AvgPool2d(2),\n",
        "    nn.Flatten(),\n",
        "    nn.Dropout(p=0.4),\n",
        "    nn.Linear(4096, 512, bias=False),\n",
        "    nn.ReLU(),\n",
        "    nn.Dropout(p=0.4),\n",
        "    nn.Linear(512, 10, bias=False)\n",
        ")\n",
        "#BN=True, p=0.25, miles=[4,6,7,8,9], gamma=0.5, [88.22, 82.86]\n",
        "#BN=False, p=0.4, decay=1e-4, Exponetial gamma=0.75, [81.113, 77.75]"
      ],
      "metadata": {
        "id": "SAXHtKnfpc3c"
      },
      "execution_count": null,
      "outputs": []
    },
    {
      "cell_type": "code",
      "source": [
        "optimizer = optim.Adam(cnn.parameters(), weight_decay=1e-4)\n",
        "scheduler = lr_scheduler.ExponentialLR(optimizer=optimizer, gamma=0.75)\n",
        "criteria = nn.CrossEntropyLoss()"
      ],
      "metadata": {
        "id": "UElW6OY0qsGG"
      },
      "execution_count": null,
      "outputs": []
    },
    {
      "cell_type": "code",
      "source": [
        "#activation\n",
        "activation = {}\n",
        "def named_hook(name):\n",
        "    def hook(module, input, output):\n",
        "        activation[name] = output.detach().cpu().numpy()\n",
        "    return hook"
      ],
      "metadata": {
        "id": "Ow6lV-jzGURF"
      },
      "execution_count": null,
      "outputs": []
    },
    {
      "cell_type": "code",
      "source": [
        "epochs = 10\n",
        "\n",
        "for epoch in range(epochs):\n",
        "    cnn.train()\n",
        "    tr_loss = 0\n",
        "    tr_correct = 0\n",
        "    for data, target in tqdm(train_loader):\n",
        "        optimizer.zero_grad()\n",
        "        out = cnn(data)\n",
        "        loss = criteria(out, target)\n",
        "        loss.backward()\n",
        "        optimizer.step()\n",
        "\n",
        "        tr_loss += loss.item()\n",
        "        _, pred = out.max(1)\n",
        "        tr_correct += (pred == target).sum().item()\n",
        "    scheduler.step()\n",
        "\n",
        "    #activation archive\n",
        "    if epoch == epochs - 1:\n",
        "        for idx, layer in enumerate(cnn):\n",
        "            if isinstance(layer, nn.ReLU):\n",
        "                layer.register_forward_hook(named_hook(f'ReLU{idx}'))\n",
        "        cnn[15].register_forward_hook(named_hook('ReLU15'))\n",
        "        with torch.no_grad():\n",
        "            for data, target in train_loader:\n",
        "                out = cnn(data)\n",
        "\n",
        "    cnn.eval()\n",
        "    ts_loss = 0\n",
        "    ts_correct = 0\n",
        "    with torch.no_grad():\n",
        "        for data, target in tqdm(test_loader):\n",
        "            out = cnn(data)\n",
        "\n",
        "            ts_loss += criteria(out, target).item()\n",
        "            _, pred = out.max(1)\n",
        "            ts_correct += (pred == target).sum().item()\n",
        "\n",
        "    print(f'\\nepoch : {epoch+1}\\ntrain = {tr_loss/50000}, {tr_correct/500}%\\t test = {ts_loss/10000}, {ts_correct/100}%\\n')"
      ],
      "metadata": {
        "colab": {
          "base_uri": "https://localhost:8080/"
        },
        "id": "DXe-cA7AsTub",
        "outputId": "e91fcf41-2e68-47ca-8bd7-e656cad0e5e1",
        "collapsed": true
      },
      "execution_count": null,
      "outputs": [
        {
          "output_type": "stream",
          "name": "stderr",
          "text": [
            "100%|██████████| 782/782 [04:18<00:00,  3.02it/s]\n",
            "100%|██████████| 157/157 [00:20<00:00,  7.77it/s]\n"
          ]
        },
        {
          "output_type": "stream",
          "name": "stdout",
          "text": [
            "\n",
            "epoch : 1\n",
            "train = 0.0236057322371006, 45.506%\t test = 0.018710120767354965, 57.97%\n",
            "\n"
          ]
        },
        {
          "output_type": "stream",
          "name": "stderr",
          "text": [
            "100%|██████████| 782/782 [04:22<00:00,  2.98it/s]\n",
            "100%|██████████| 157/157 [00:21<00:00,  7.43it/s]\n"
          ]
        },
        {
          "output_type": "stream",
          "name": "stdout",
          "text": [
            "\n",
            "epoch : 2\n",
            "train = 0.017440081950426102, 60.842%\t test = 0.015148442205786705, 66.01%\n",
            "\n"
          ]
        },
        {
          "output_type": "stream",
          "name": "stderr",
          "text": [
            "100%|██████████| 782/782 [04:58<00:00,  2.62it/s]\n",
            "100%|██████████| 157/157 [00:30<00:00,  5.13it/s]\n"
          ]
        },
        {
          "output_type": "stream",
          "name": "stdout",
          "text": [
            "\n",
            "epoch : 3\n",
            "train = 0.01460567600607872, 67.086%\t test = 0.013816140526533127, 69.84%\n",
            "\n"
          ]
        },
        {
          "output_type": "stream",
          "name": "stderr",
          "text": [
            "100%|██████████| 782/782 [05:16<00:00,  2.47it/s]\n",
            "100%|██████████| 157/157 [00:33<00:00,  4.76it/s]\n"
          ]
        },
        {
          "output_type": "stream",
          "name": "stdout",
          "text": [
            "\n",
            "epoch : 4\n",
            "train = 0.012863774104118347, 71.464%\t test = 0.01243299924135208, 72.75%\n",
            "\n"
          ]
        },
        {
          "output_type": "stream",
          "name": "stderr",
          "text": [
            "100%|██████████| 782/782 [05:14<00:00,  2.48it/s]\n",
            "100%|██████████| 157/157 [00:33<00:00,  4.67it/s]\n"
          ]
        },
        {
          "output_type": "stream",
          "name": "stdout",
          "text": [
            "\n",
            "epoch : 5\n",
            "train = 0.011505562909245492, 74.238%\t test = 0.011733125907182694, 74.45%\n",
            "\n"
          ]
        },
        {
          "output_type": "stream",
          "name": "stderr",
          "text": [
            "100%|██████████| 782/782 [05:32<00:00,  2.35it/s]\n",
            "100%|██████████| 157/157 [00:40<00:00,  3.89it/s]\n"
          ]
        },
        {
          "output_type": "stream",
          "name": "stdout",
          "text": [
            "\n",
            "epoch : 6\n",
            "train = 0.010594038138389588, 76.318%\t test = 0.011203959861397743, 74.81%\n",
            "\n"
          ]
        },
        {
          "output_type": "stream",
          "name": "stderr",
          "text": [
            "100%|██████████| 782/782 [06:52<00:00,  1.90it/s]\n",
            "100%|██████████| 157/157 [00:44<00:00,  3.54it/s]\n"
          ]
        },
        {
          "output_type": "stream",
          "name": "stdout",
          "text": [
            "\n",
            "epoch : 7\n",
            "train = 0.009824658742547036, 78.078%\t test = 0.010647248828411102, 76.41%\n",
            "\n"
          ]
        },
        {
          "output_type": "stream",
          "name": "stderr",
          "text": [
            "100%|██████████| 782/782 [07:35<00:00,  1.72it/s]\n",
            "100%|██████████| 157/157 [00:43<00:00,  3.59it/s]\n"
          ]
        },
        {
          "output_type": "stream",
          "name": "stdout",
          "text": [
            "\n",
            "epoch : 8\n",
            "train = 0.00921361991584301, 79.55%\t test = 0.0105768824249506, 76.54%\n",
            "\n"
          ]
        },
        {
          "output_type": "stream",
          "name": "stderr",
          "text": [
            "100%|██████████| 782/782 [08:17<00:00,  1.57it/s]\n",
            "100%|██████████| 157/157 [00:45<00:00,  3.46it/s]\n"
          ]
        },
        {
          "output_type": "stream",
          "name": "stdout",
          "text": [
            "\n",
            "epoch : 9\n",
            "train = 0.00885140183210373, 80.374%\t test = 0.01034541222155094, 77.34%\n",
            "\n"
          ]
        },
        {
          "output_type": "stream",
          "name": "stderr",
          "text": [
            "100%|██████████| 782/782 [08:56<00:00,  1.46it/s]\n",
            "100%|██████████| 157/157 [00:42<00:00,  3.65it/s]"
          ]
        },
        {
          "output_type": "stream",
          "name": "stdout",
          "text": [
            "\n",
            "epoch : 10\n",
            "train = 0.008457711308896542, 81.116%\t test = 0.010303056800365447, 77.75%\n",
            "\n"
          ]
        },
        {
          "output_type": "stream",
          "name": "stderr",
          "text": [
            "\n"
          ]
        }
      ]
    },
    {
      "cell_type": "code",
      "source": [
        "torch.save(cnn.state_dict(), 'reuckauer2017.pth')\n",
        "np.save('activation.npy', activation)"
      ],
      "metadata": {
        "id": "iWbOwqnIE_qu"
      },
      "execution_count": null,
      "outputs": []
    },
    {
      "cell_type": "markdown",
      "source": [
        "# 4. SNN and Conversion"
      ],
      "metadata": {
        "id": "GU7c3Zeya9v_"
      }
    },
    {
      "cell_type": "code",
      "source": [
        "scnn = nn.Sequential(\n",
        "    nn.Conv2d(3, 32, 3, padding=1, bias=False),\n",
        "    snn.Leaky(1,init_hidden=True),\n",
        "    nn.Conv2d(32, 32, 3, padding=1, bias=False),\n",
        "    snn.Leaky(1, init_hidden=True),\n",
        "    nn.AvgPool2d(2),\n",
        "    nn.Conv2d(32, 64, 3, padding=1, bias=False),\n",
        "    snn.Leaky(1, init_hidden=True),\n",
        "    nn.Conv2d(64, 64, 3, padding=1, bias=False),\n",
        "    snn.Leaky(1, init_hidden=True),\n",
        "    nn.AvgPool2d(2),\n",
        "    nn.Flatten(),\n",
        "    nn.Linear(4096, 512, bias=False),\n",
        "    snn.Leaky(1, init_hidden=True),\n",
        "    nn.Linear(512, 10, bias=False),\n",
        "    snn.Leaky(1)\n",
        ")"
      ],
      "metadata": {
        "id": "2pm9qopXbIcl"
      },
      "execution_count": null,
      "outputs": []
    },
    {
      "cell_type": "code",
      "source": [
        "cnn_sd = torch.load('reuckauer2017.pth', weights_only=True)\n",
        "\n",
        "scnn_sd = {}\n",
        "scnn_sd['0.weight'] = cnn_sd['0.weight']\n",
        "scnn_sd['2.weight'] = cnn_sd['2.weight']\n",
        "scnn_sd['5.weight'] = cnn_sd['5.weight']\n",
        "scnn_sd['7.weight'] = cnn_sd['7.weight']\n",
        "scnn_sd['11.weight'] = cnn_sd['12.weight']\n",
        "scnn_sd['13.weight'] = cnn_sd['15.weight']\n",
        "\n",
        "scnn.load_state_dict(scnn_sd, strict=False)"
      ],
      "metadata": {
        "id": "YdPSExfiFroo",
        "colab": {
          "base_uri": "https://localhost:8080/"
        },
        "outputId": "311da157-bdee-4de2-960d-56d90684a79e"
      },
      "execution_count": null,
      "outputs": [
        {
          "output_type": "execute_result",
          "data": {
            "text/plain": [
              "_IncompatibleKeys(missing_keys=['1.threshold', '1.graded_spikes_factor', '1.reset_mechanism_val', '1.beta', '3.threshold', '3.graded_spikes_factor', '3.reset_mechanism_val', '3.beta', '6.threshold', '6.graded_spikes_factor', '6.reset_mechanism_val', '6.beta', '8.threshold', '8.graded_spikes_factor', '8.reset_mechanism_val', '8.beta', '12.threshold', '12.graded_spikes_factor', '12.reset_mechanism_val', '12.beta', '14.threshold', '14.graded_spikes_factor', '14.reset_mechanism_val', '14.beta'], unexpected_keys=[])"
            ]
          },
          "metadata": {},
          "execution_count": 59
        }
      ]
    },
    {
      "cell_type": "markdown",
      "source": [
        "# 5. Threshold Balancing or Weight Normalization"
      ],
      "metadata": {
        "id": "0UG7HYk8Vakw"
      }
    },
    {
      "cell_type": "code",
      "source": [
        "activation_obj = np.load('activation.npy', allow_pickle=True)\n",
        "activation = activation_obj.item()\n",
        "\n",
        "thresholds = []\n",
        "for k, v in activation.items():\n",
        "    p999 = np.percentile(v, q=99.9)\n",
        "    thresholds.append(p999)"
      ],
      "metadata": {
        "id": "c5fS3PSFaVQe"
      },
      "execution_count": null,
      "outputs": []
    },
    {
      "cell_type": "code",
      "source": [
        "scnn[1].threshold = torch.tensor(thresholds[1])\n",
        "scnn[3].threshold = torch.tensor(thresholds[2]/thresholds[1])\n",
        "scnn[6].threshold = torch.tensor(thresholds[3]/thresholds[2])\n",
        "scnn[8].threshold = torch.tensor(thresholds[4]/thresholds[3])\n",
        "scnn[12].threshold = torch.tensor(thresholds[5]/thresholds[4])\n",
        "scnn[14].threshold = torch.tensor(thresholds[0]/thresholds[5])"
      ],
      "metadata": {
        "id": "OSQVUEn6wTzT"
      },
      "execution_count": null,
      "outputs": []
    },
    {
      "cell_type": "markdown",
      "source": [
        "# 6. Result"
      ],
      "metadata": {
        "id": "pUc_8co4gDjw"
      }
    },
    {
      "cell_type": "code",
      "source": [
        "criteria = sF.ce_count_loss()"
      ],
      "metadata": {
        "id": "tRwgjGJvgRke"
      },
      "execution_count": null,
      "outputs": []
    },
    {
      "cell_type": "code",
      "source": [
        "epochs = 1\n",
        "timesteps = 64\n",
        "#device = torch.device('cuda' if torch.cuda.is_available() else 'cpu')\n",
        "\n",
        "#scnn.to(device)\n",
        "\n",
        "scnn.eval()\n",
        "with torch.no_grad():\n",
        "    loss = 0\n",
        "    correct = 0\n",
        "    for data, target in tqdm(test_loader):\n",
        "        #data, target = data.to(device), target.to(device)\n",
        "        sutils.reset(scnn)\n",
        "\n",
        "        spk_step = []\n",
        "        for step in range(timesteps):\n",
        "            spk, mem = scnn(data)\n",
        "            spk_step.append(spk)\n",
        "        spk_batch = torch.stack(spk_step)\n",
        "\n",
        "        loss += criteria(spk_batch, target).item()\n",
        "        _, pred = spk_batch.sum(0).max(1)\n",
        "        correct += (pred == target).sum().item()\n",
        "\n",
        "        del spk_batch, spk_step, data, target\n",
        "\n",
        "    print(f'\\n{loss/10000},\\t{correct/100}%')\n",
        "\n",
        "#steps=32, BN=False, WN=False, [, 28.38]\n",
        "#steps=32, BN=False, TB=True(data-based by ReLU), [, 77.75]->[, 75.0]\n",
        "#steps=64, same, [, 77.75]->[, 77.2]"
      ],
      "metadata": {
        "colab": {
          "base_uri": "https://localhost:8080/"
        },
        "id": "r2ZFhaHagdO4",
        "outputId": "c1afd959-8b06-4814-a57b-e4448ac0d361"
      },
      "execution_count": null,
      "outputs": [
        {
          "output_type": "stream",
          "name": "stderr",
          "text": [
            "100%|██████████| 157/157 [34:42<00:00, 13.26s/it]"
          ]
        },
        {
          "output_type": "stream",
          "name": "stdout",
          "text": [
            "\n",
            "0.016365691620111464,\t77.2%\n"
          ]
        },
        {
          "output_type": "stream",
          "name": "stderr",
          "text": [
            "\n"
          ]
        }
      ]
    },
    {
      "cell_type": "markdown",
      "source": [
        "# 7. Firing rate"
      ],
      "metadata": {
        "id": "KEeSCOAX5jJ3"
      }
    },
    {
      "cell_type": "code",
      "source": [
        "spk_count = dict()\n",
        "def spike_hook(name, init_hidden):\n",
        "    def hook(module, input, output):\n",
        "        if name not in spk_count:\n",
        "            if init_hidden:\n",
        "                spk_count[name] = torch.zeros_like(output)\n",
        "            else: spk_count[name] = torch.zeros_like(output[0])\n",
        "        if init_hidden:\n",
        "            spk_count[name] += output\n",
        "        else: spk_count[name] += output[0]\n",
        "    return hook\n",
        "\n",
        "for idx, layer in enumerate(scnn):\n",
        "    if isinstance(layer, snn.Leaky):\n",
        "        init_hidden = layer.init_hidden\n",
        "        layer.register_forward_hook(spike_hook(f'IF{idx}', init_hidden))"
      ],
      "metadata": {
        "id": "g2dUHTiD5lb6"
      },
      "execution_count": null,
      "outputs": []
    },
    {
      "cell_type": "code",
      "source": [
        "data, target = next(iter(test_loader))\n",
        "\n",
        "timesteps = 8\n",
        "with torch.no_grad():\n",
        "    for step in range(timesteps):\n",
        "        spk, mem = scnn(data)"
      ],
      "metadata": {
        "id": "RhbVBUDL-xZr"
      },
      "execution_count": null,
      "outputs": []
    },
    {
      "cell_type": "code",
      "source": [
        "for k, v in spk_count.items():\n",
        "    print(k, v.shape)"
      ],
      "metadata": {
        "colab": {
          "base_uri": "https://localhost:8080/"
        },
        "id": "VuBd5Y4sMCpv",
        "outputId": "cea52d28-ba74-4eb7-e4a2-4ddf94ef639a"
      },
      "execution_count": null,
      "outputs": [
        {
          "output_type": "stream",
          "name": "stdout",
          "text": [
            "IF1 torch.Size([64, 32, 32, 32])\n",
            "IF3 torch.Size([64, 32, 32, 32])\n",
            "IF6 torch.Size([64, 64, 16, 16])\n",
            "IF8 torch.Size([64, 64, 16, 16])\n",
            "IF12 torch.Size([64, 512])\n",
            "IF14 torch.Size([64, 10])\n"
          ]
        }
      ]
    },
    {
      "cell_type": "code",
      "source": [
        "spk_layer = torch.sum(spk_count['IF12'], 1) / 512\n",
        "rate = torch.mean(spk_layer)\n",
        "print(spk_layer, rate) #timestepsで割るのを忘れずに\n",
        "#1neuronあたり0.01, dataによって大きく異なる, 0も多い, steps=8"
      ],
      "metadata": {
        "colab": {
          "base_uri": "https://localhost:8080/"
        },
        "id": "5CKxS1hLNcZE",
        "outputId": "116667e7-14f9-4286-a606-e3ddb973fe79"
      },
      "execution_count": null,
      "outputs": [
        {
          "output_type": "stream",
          "name": "stdout",
          "text": [
            "tensor([0.0156, 0.0430, 0.0352, 0.0859, 0.0000, 0.1328, 0.0820, 0.0469, 0.0273,\n",
            "        0.1211, 0.1719, 0.3242, 0.1172, 0.1250, 0.0156, 0.0000, 0.3867, 0.2188,\n",
            "        0.0469, 0.0977, 0.0742, 0.0195, 0.2422, 0.0000, 0.0039, 0.0000, 0.0000,\n",
            "        0.3477, 0.0195, 0.0000, 0.0000, 0.0000, 0.0586, 0.2461, 0.0000, 0.0000,\n",
            "        0.0039, 0.0000, 0.1055, 0.0117, 0.1953, 0.0000, 0.3438, 0.0156, 0.0352,\n",
            "        0.0078, 0.0977, 0.0000, 0.0352, 0.2227, 0.0078, 0.2422, 0.0547, 0.0352,\n",
            "        0.0352, 0.0039, 0.0820, 0.0859, 0.0000, 0.0508, 0.0000, 0.3008, 0.0469,\n",
            "        0.0273]) tensor(0.0805)\n"
          ]
        }
      ]
    },
    {
      "cell_type": "code",
      "source": [
        "print(spk_count['IF14']) #timestepsで割るのを忘れずに"
      ],
      "metadata": {
        "colab": {
          "base_uri": "https://localhost:8080/"
        },
        "id": "mTa5TxukPSMy",
        "outputId": "8ab0ebf7-b9c3-4302-d7b9-3d7b34157551"
      },
      "execution_count": null,
      "outputs": [
        {
          "output_type": "stream",
          "name": "stdout",
          "text": [
            "tensor([[0.0000, 0.0000, 0.0000, 0.0000, 0.0000, 0.0000, 0.0000, 0.0000, 0.0000,\n",
            "         0.0000],\n",
            "        [0.0000, 0.0000, 0.0000, 0.0000, 0.0000, 0.0000, 0.0000, 0.0000, 0.0000,\n",
            "         0.0000],\n",
            "        [0.0000, 0.0000, 0.0000, 0.0000, 0.0000, 0.0000, 0.0000, 0.0000, 0.0000,\n",
            "         0.0000],\n",
            "        [0.0000, 0.0000, 0.0000, 0.0000, 0.0000, 0.0000, 0.0000, 0.0000, 0.0000,\n",
            "         0.0000],\n",
            "        [0.0000, 0.0000, 0.0000, 0.0000, 0.0000, 0.0000, 0.0000, 0.0000, 0.0000,\n",
            "         0.0000],\n",
            "        [0.0000, 0.0000, 0.0000, 0.0000, 0.0000, 0.0000, 0.0000, 0.0000, 0.0000,\n",
            "         0.0000],\n",
            "        [0.0000, 0.0000, 0.0000, 0.0000, 0.0000, 0.0000, 0.0000, 0.0000, 0.0000,\n",
            "         0.0000],\n",
            "        [0.0000, 0.0000, 0.0000, 0.0000, 0.0000, 0.0000, 0.0000, 0.0000, 0.0000,\n",
            "         0.0000],\n",
            "        [0.0000, 0.0000, 0.0000, 0.0000, 0.0000, 0.0000, 0.0000, 0.0000, 0.0000,\n",
            "         0.0000],\n",
            "        [0.0000, 0.0000, 0.0000, 0.0000, 0.0000, 0.0000, 0.0000, 0.0000, 0.0000,\n",
            "         0.0000],\n",
            "        [0.0000, 0.0000, 0.0000, 0.0000, 0.0000, 0.0000, 0.0000, 0.0000, 0.0000,\n",
            "         0.0000],\n",
            "        [0.0000, 0.2500, 0.0000, 0.0000, 0.0000, 0.0000, 0.0000, 0.0000, 0.0000,\n",
            "         0.0000],\n",
            "        [0.0000, 0.0000, 0.0000, 0.0000, 0.0000, 0.0000, 0.0000, 0.0000, 0.0000,\n",
            "         0.0000],\n",
            "        [0.0000, 0.0000, 0.0000, 0.0000, 0.0000, 0.0000, 0.0000, 0.0000, 0.0000,\n",
            "         0.0000],\n",
            "        [0.0000, 0.0000, 0.0000, 0.0000, 0.0000, 0.0000, 0.0000, 0.0000, 0.0000,\n",
            "         0.0000],\n",
            "        [0.0000, 0.0000, 0.0000, 0.0000, 0.0000, 0.0000, 0.0000, 0.0000, 0.0000,\n",
            "         0.0000],\n",
            "        [0.0000, 0.2500, 0.0000, 0.0000, 0.0000, 0.0000, 0.0000, 0.0000, 0.0000,\n",
            "         0.2500],\n",
            "        [0.0000, 0.0000, 0.0000, 0.0000, 0.0000, 0.0000, 0.0000, 0.0000, 0.0000,\n",
            "         0.0000],\n",
            "        [0.0000, 0.0000, 0.0000, 0.0000, 0.0000, 0.0000, 0.0000, 0.0000, 0.0000,\n",
            "         0.0000],\n",
            "        [0.0000, 0.0000, 0.0000, 0.0000, 0.0000, 0.0000, 0.0000, 0.0000, 0.0000,\n",
            "         0.0000],\n",
            "        [0.0000, 0.0000, 0.0000, 0.0000, 0.0000, 0.0000, 0.0000, 0.0000, 0.0000,\n",
            "         0.0000],\n",
            "        [0.0000, 0.0000, 0.0000, 0.0000, 0.0000, 0.0000, 0.0000, 0.0000, 0.0000,\n",
            "         0.0000],\n",
            "        [0.0000, 0.0000, 0.0000, 0.0000, 0.0000, 0.0000, 0.0000, 0.0000, 0.2500,\n",
            "         0.0000],\n",
            "        [0.0000, 0.0000, 0.0000, 0.0000, 0.0000, 0.0000, 0.0000, 0.0000, 0.0000,\n",
            "         0.0000],\n",
            "        [0.0000, 0.0000, 0.0000, 0.0000, 0.0000, 0.0000, 0.0000, 0.0000, 0.0000,\n",
            "         0.0000],\n",
            "        [0.0000, 0.0000, 0.0000, 0.0000, 0.0000, 0.0000, 0.0000, 0.0000, 0.0000,\n",
            "         0.0000],\n",
            "        [0.0000, 0.0000, 0.0000, 0.0000, 0.0000, 0.0000, 0.0000, 0.0000, 0.0000,\n",
            "         0.0000],\n",
            "        [0.0000, 0.2500, 0.0000, 0.0000, 0.0000, 0.0000, 0.0000, 0.0000, 0.0000,\n",
            "         0.0000],\n",
            "        [0.0000, 0.0000, 0.0000, 0.0000, 0.0000, 0.0000, 0.0000, 0.0000, 0.0000,\n",
            "         0.0000],\n",
            "        [0.0000, 0.0000, 0.0000, 0.0000, 0.0000, 0.0000, 0.0000, 0.0000, 0.0000,\n",
            "         0.0000],\n",
            "        [0.0000, 0.0000, 0.0000, 0.0000, 0.0000, 0.0000, 0.0000, 0.0000, 0.0000,\n",
            "         0.0000],\n",
            "        [0.0000, 0.0000, 0.0000, 0.0000, 0.0000, 0.0000, 0.0000, 0.0000, 0.0000,\n",
            "         0.0000],\n",
            "        [0.0000, 0.0000, 0.0000, 0.0000, 0.0000, 0.0000, 0.0000, 0.0000, 0.0000,\n",
            "         0.0000],\n",
            "        [0.0000, 0.0000, 0.0000, 0.0000, 0.0000, 0.0000, 0.0000, 0.2500, 0.0000,\n",
            "         0.0000],\n",
            "        [0.0000, 0.0000, 0.0000, 0.0000, 0.0000, 0.0000, 0.0000, 0.0000, 0.0000,\n",
            "         0.0000],\n",
            "        [0.0000, 0.0000, 0.0000, 0.0000, 0.0000, 0.0000, 0.0000, 0.0000, 0.0000,\n",
            "         0.0000],\n",
            "        [0.0000, 0.0000, 0.0000, 0.0000, 0.0000, 0.0000, 0.0000, 0.0000, 0.0000,\n",
            "         0.0000],\n",
            "        [0.0000, 0.0000, 0.0000, 0.0000, 0.0000, 0.0000, 0.0000, 0.0000, 0.0000,\n",
            "         0.0000],\n",
            "        [0.0000, 0.0000, 0.0000, 0.0000, 0.0000, 0.0000, 0.0000, 0.0000, 0.0000,\n",
            "         0.0000],\n",
            "        [0.0000, 0.0000, 0.0000, 0.0000, 0.0000, 0.0000, 0.0000, 0.0000, 0.0000,\n",
            "         0.0000],\n",
            "        [0.0000, 0.2500, 0.0000, 0.0000, 0.0000, 0.0000, 0.0000, 0.0000, 0.0000,\n",
            "         0.0000],\n",
            "        [0.0000, 0.0000, 0.0000, 0.0000, 0.0000, 0.0000, 0.0000, 0.0000, 0.0000,\n",
            "         0.0000],\n",
            "        [0.0000, 0.0000, 0.0000, 0.0000, 0.0000, 0.0000, 0.0000, 0.5000, 0.0000,\n",
            "         0.0000],\n",
            "        [0.0000, 0.0000, 0.0000, 0.0000, 0.0000, 0.0000, 0.0000, 0.0000, 0.0000,\n",
            "         0.0000],\n",
            "        [0.0000, 0.0000, 0.0000, 0.0000, 0.0000, 0.0000, 0.0000, 0.0000, 0.0000,\n",
            "         0.0000],\n",
            "        [0.0000, 0.0000, 0.0000, 0.0000, 0.0000, 0.0000, 0.0000, 0.0000, 0.0000,\n",
            "         0.0000],\n",
            "        [0.0000, 0.0000, 0.0000, 0.0000, 0.0000, 0.0000, 0.0000, 0.0000, 0.0000,\n",
            "         0.0000],\n",
            "        [0.0000, 0.0000, 0.0000, 0.0000, 0.0000, 0.0000, 0.0000, 0.0000, 0.0000,\n",
            "         0.0000],\n",
            "        [0.0000, 0.0000, 0.0000, 0.0000, 0.0000, 0.0000, 0.0000, 0.0000, 0.0000,\n",
            "         0.0000],\n",
            "        [0.0000, 0.0000, 0.0000, 0.0000, 0.0000, 0.0000, 0.0000, 0.0000, 0.0000,\n",
            "         0.0000],\n",
            "        [0.0000, 0.0000, 0.0000, 0.0000, 0.0000, 0.0000, 0.0000, 0.0000, 0.0000,\n",
            "         0.0000],\n",
            "        [0.0000, 0.0000, 0.0000, 0.0000, 0.0000, 0.0000, 0.0000, 0.2500, 0.0000,\n",
            "         0.0000],\n",
            "        [0.0000, 0.0000, 0.0000, 0.0000, 0.0000, 0.0000, 0.0000, 0.0000, 0.0000,\n",
            "         0.0000],\n",
            "        [0.0000, 0.0000, 0.0000, 0.0000, 0.0000, 0.0000, 0.0000, 0.0000, 0.0000,\n",
            "         0.0000],\n",
            "        [0.0000, 0.0000, 0.0000, 0.0000, 0.0000, 0.0000, 0.0000, 0.0000, 0.0000,\n",
            "         0.0000],\n",
            "        [0.0000, 0.0000, 0.0000, 0.0000, 0.0000, 0.0000, 0.0000, 0.0000, 0.0000,\n",
            "         0.0000],\n",
            "        [0.0000, 0.0000, 0.0000, 0.0000, 0.0000, 0.0000, 0.0000, 0.0000, 0.0000,\n",
            "         0.0000],\n",
            "        [0.0000, 0.0000, 0.0000, 0.0000, 0.0000, 0.0000, 0.0000, 0.0000, 0.0000,\n",
            "         0.0000],\n",
            "        [0.0000, 0.0000, 0.0000, 0.0000, 0.0000, 0.0000, 0.0000, 0.0000, 0.0000,\n",
            "         0.0000],\n",
            "        [0.0000, 0.0000, 0.0000, 0.0000, 0.0000, 0.0000, 0.0000, 0.0000, 0.0000,\n",
            "         0.0000],\n",
            "        [0.0000, 0.0000, 0.0000, 0.0000, 0.0000, 0.0000, 0.0000, 0.0000, 0.0000,\n",
            "         0.0000],\n",
            "        [0.0000, 0.2500, 0.0000, 0.0000, 0.0000, 0.0000, 0.0000, 0.0000, 0.0000,\n",
            "         0.0000],\n",
            "        [0.0000, 0.0000, 0.0000, 0.0000, 0.0000, 0.0000, 0.0000, 0.0000, 0.0000,\n",
            "         0.0000],\n",
            "        [0.0000, 0.0000, 0.0000, 0.0000, 0.0000, 0.0000, 0.0000, 0.0000, 0.0000,\n",
            "         0.0000]])\n"
          ]
        }
      ]
    }
  ]
}
