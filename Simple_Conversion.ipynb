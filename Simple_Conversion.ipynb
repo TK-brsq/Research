{
  "nbformat": 4,
  "nbformat_minor": 0,
  "metadata": {
    "colab": {
      "provenance": [],
      "gpuType": "T4",
      "authorship_tag": "ABX9TyPpDobmEbaigQuwoAu3qi+q",
      "include_colab_link": true
    },
    "kernelspec": {
      "name": "python3",
      "display_name": "Python 3"
    },
    "language_info": {
      "name": "python"
    },
    "accelerator": "GPU"
  },
  "cells": [
    {
      "cell_type": "markdown",
      "metadata": {
        "id": "view-in-github",
        "colab_type": "text"
      },
      "source": [
        "<a href=\"https://colab.research.google.com/github/TK-brsq/Research/blob/main/Simple_Conversion.ipynb\" target=\"_parent\"><img src=\"https://colab.research.google.com/assets/colab-badge.svg\" alt=\"Open In Colab\"/></a>"
      ]
    },
    {
      "cell_type": "code",
      "execution_count": 1,
      "metadata": {
        "id": "vcZ5h4kz_Bdz"
      },
      "outputs": [],
      "source": [
        "import torch\n",
        "import torch.nn as nn\n",
        "import torch.optim as optim\n",
        "from torch.optim import lr_scheduler\n",
        "from torch.utils.data import DataLoader\n",
        "from torchvision import datasets, transforms\n",
        "\n",
        "from tqdm import tqdm"
      ]
    },
    {
      "cell_type": "code",
      "source": [
        "transform = transforms.Compose([transforms.ToTensor(), transforms.Normalize((0.5, 0.5, 0.5), (0.25, 0.25, 0.25))])\n",
        "\n",
        "train = datasets.CIFAR10(root='./data', train=True, transform=transform, download=True)\n",
        "test = datasets.CIFAR10(root='./data', train=False, transform=transform, download=True)\n",
        "\n",
        "train_loader = DataLoader(dataset=train, batch_size=64, shuffle=True)\n",
        "test_loader = DataLoader(dataset=test, batch_size=64, shuffle=True)"
      ],
      "metadata": {
        "colab": {
          "base_uri": "https://localhost:8080/"
        },
        "id": "qerOl9uG_9o7",
        "outputId": "f1b17ebb-b7d6-4e77-81a3-f8e138cebaeb",
        "collapsed": true
      },
      "execution_count": 2,
      "outputs": [
        {
          "output_type": "stream",
          "name": "stdout",
          "text": [
            "Downloading https://www.cs.toronto.edu/~kriz/cifar-10-python.tar.gz to ./data/cifar-10-python.tar.gz\n"
          ]
        },
        {
          "output_type": "stream",
          "name": "stderr",
          "text": [
            "100%|██████████| 170498071/170498071 [00:15<00:00, 10948466.77it/s]\n"
          ]
        },
        {
          "output_type": "stream",
          "name": "stdout",
          "text": [
            "Extracting ./data/cifar-10-python.tar.gz to ./data\n",
            "Files already downloaded and verified\n"
          ]
        }
      ]
    },
    {
      "cell_type": "markdown",
      "source": [
        "CNN"
      ],
      "metadata": {
        "id": "JJ-e6f5R_KIa"
      }
    },
    {
      "cell_type": "code",
      "source": [
        "cnn = nn.Sequential(\n",
        "    nn.Conv2d(3, 32, 3, padding='same', bias=False),\n",
        "    nn.BatchNorm2d(32),\n",
        "    nn.ReLU(),\n",
        "    nn.AvgPool2d(2),\n",
        "    nn.Conv2d(32, 64, 3, padding='same', bias=False),\n",
        "    nn.BatchNorm2d(64),\n",
        "    nn.ReLU(),\n",
        "    nn.AvgPool2d(2),\n",
        "    nn.Flatten(),\n",
        "    nn.Dropout(p=0.2),\n",
        "    nn.Linear(8*8*64, 1024, bias=False),\n",
        "    nn.ReLU(),\n",
        "    nn.Dropout(p=0.2),\n",
        "    nn.Linear(1024, 10, bias=False)\n",
        ")\n",
        "#4layer(2conv(3->32->64), 2fc(4096->1024->10), Avgpool), epochs=4, weight_decay=1e-5 acc=[77.32, 71.89]\n",
        "#上のモデルに次を加える. Linearの前にDropout(p=0.2), scheduler=MultiStep(mile=[4, 7], gamma0.5), epochs=8, acc=[79.29, 75.20]\n",
        "#さらにbias=False, mile=[4, 6, 7], acc=[87.78, 78.14]"
      ],
      "metadata": {
        "id": "IysvDZqx_hQ_",
        "colab": {
          "base_uri": "https://localhost:8080/"
        },
        "collapsed": true,
        "outputId": "8c30db71-f2b4-4046-cb78-0bfe6d3f3e2a"
      },
      "execution_count": null,
      "outputs": [
        {
          "output_type": "stream",
          "name": "stdout",
          "text": [
            "Sequential(\n",
            "  (0): Conv2d(3, 32, kernel_size=(3, 3), stride=(1, 1), padding=same, bias=False)\n",
            "  (1): BatchNorm2d(32, eps=1e-05, momentum=0.1, affine=True, track_running_stats=True)\n",
            "  (2): ReLU()\n",
            "  (3): AvgPool2d(kernel_size=2, stride=2, padding=0)\n",
            "  (4): Conv2d(32, 64, kernel_size=(3, 3), stride=(1, 1), padding=same, bias=False)\n",
            "  (5): BatchNorm2d(64, eps=1e-05, momentum=0.1, affine=True, track_running_stats=True)\n",
            "  (6): ReLU()\n",
            "  (7): AvgPool2d(kernel_size=2, stride=2, padding=0)\n",
            "  (8): Flatten(start_dim=1, end_dim=-1)\n",
            "  (9): Dropout(p=0.2, inplace=False)\n",
            "  (10): Linear(in_features=4096, out_features=1024, bias=False)\n",
            "  (11): ReLU()\n",
            "  (12): Dropout(p=0.2, inplace=False)\n",
            "  (13): Linear(in_features=1024, out_features=10, bias=False)\n",
            ")\n"
          ]
        }
      ]
    },
    {
      "cell_type": "code",
      "source": [
        "optimizer = optim.Adam(params=cnn.parameters(), weight_decay=1e-5)\n",
        "scheduler = lr_scheduler.MultiStepLR(optimizer, milestones=[4, 6, 7], gamma=0.5)\n",
        "criteria = nn.CrossEntropyLoss()"
      ],
      "metadata": {
        "id": "nauNUwpbDawH"
      },
      "execution_count": null,
      "outputs": []
    },
    {
      "cell_type": "code",
      "source": [
        "epochs = 8\n",
        "for epoch in range(epochs):\n",
        "    cnn.train()\n",
        "    trloss = 0\n",
        "    trcorrect = 0\n",
        "    for data, target in train_loader:\n",
        "        optimizer.zero_grad()\n",
        "        out = cnn(data)\n",
        "        loss = criteria(out, target)\n",
        "        loss.backward()\n",
        "        optimizer.step()\n",
        "\n",
        "        trloss += loss.item()\n",
        "        _, pred = torch.max(out, 1)\n",
        "        trcorrect += (pred == target).sum().item()\n",
        "    scheduler.step()\n",
        "\n",
        "    cnn.eval()\n",
        "    tsloss = 0\n",
        "    tscorrect = 0\n",
        "    for data, target in test_loader:\n",
        "        out = cnn(data)\n",
        "        loss = criteria(out, target)\n",
        "\n",
        "        tsloss += loss.item()\n",
        "        _, pred = out.max(1)\n",
        "        tscorrect += (pred == target).sum().item()\n",
        "\n",
        "    N = len(train_loader.dataset)\n",
        "    n = len(test_loader.dataset)\n",
        "    print(f'epoch: {epoch+1}\\n train : loss={trloss/N:.4f}, acc={trcorrect*100/N:.2f}% \\t test : loss={tsloss/n:.4f}, acc={tscorrect*100/n:.2f}%\\n')"
      ],
      "metadata": {
        "colab": {
          "base_uri": "https://localhost:8080/"
        },
        "id": "wQquntLFD2QX",
        "outputId": "ffe7e33f-ffb7-403c-bf70-721f9d5617b1",
        "collapsed": true
      },
      "execution_count": null,
      "outputs": [
        {
          "output_type": "stream",
          "name": "stdout",
          "text": [
            "epoch: 1\n",
            " train : loss=0.0202, acc=53.26% \t test : loss=0.0161, acc=63.36%\n",
            "\n",
            "epoch: 2\n",
            " train : loss=0.0151, acc=65.86% \t test : loss=0.0136, acc=69.87%\n",
            "\n",
            "epoch: 3\n",
            " train : loss=0.0127, acc=71.20% \t test : loss=0.0127, acc=71.72%\n",
            "\n",
            "epoch: 4\n",
            " train : loss=0.0112, acc=74.77% \t test : loss=0.0118, acc=73.89%\n",
            "\n",
            "epoch: 5\n",
            " train : loss=0.0087, acc=80.33% \t test : loss=0.0106, acc=76.61%\n",
            "\n",
            "epoch: 6\n",
            " train : loss=0.0078, acc=82.35% \t test : loss=0.0106, acc=76.70%\n",
            "\n",
            "epoch: 7\n",
            " train : loss=0.0064, acc=85.89% \t test : loss=0.0102, acc=78.25%\n",
            "\n",
            "epoch: 8\n",
            " train : loss=0.0055, acc=87.78% \t test : loss=0.0102, acc=78.14%\n",
            "\n"
          ]
        }
      ]
    },
    {
      "cell_type": "markdown",
      "source": [
        "# ここから"
      ],
      "metadata": {
        "id": "sFN8u65mNPAQ"
      }
    },
    {
      "cell_type": "markdown",
      "source": [
        "SNN"
      ],
      "metadata": {
        "id": "E_3-6w18NGZt"
      }
    },
    {
      "cell_type": "code",
      "source": [
        "!pip install snntorch"
      ],
      "metadata": {
        "id": "grySGivjNHWw",
        "colab": {
          "base_uri": "https://localhost:8080/"
        },
        "collapsed": true,
        "outputId": "be99a838-d4df-4a40-b35d-bb33d67e8633"
      },
      "execution_count": 3,
      "outputs": [
        {
          "output_type": "stream",
          "name": "stdout",
          "text": [
            "Collecting snntorch\n",
            "  Downloading snntorch-0.9.1-py2.py3-none-any.whl.metadata (16 kB)\n",
            "Requirement already satisfied: torch>=1.1.0 in /usr/local/lib/python3.10/dist-packages (from snntorch) (2.4.0+cu121)\n",
            "Requirement already satisfied: pandas in /usr/local/lib/python3.10/dist-packages (from snntorch) (2.1.4)\n",
            "Requirement already satisfied: matplotlib in /usr/local/lib/python3.10/dist-packages (from snntorch) (3.7.1)\n",
            "Requirement already satisfied: numpy>=1.17 in /usr/local/lib/python3.10/dist-packages (from snntorch) (1.26.4)\n",
            "Collecting nir (from snntorch)\n",
            "  Downloading nir-1.0.4-py3-none-any.whl.metadata (5.8 kB)\n",
            "Collecting nirtorch (from snntorch)\n",
            "  Downloading nirtorch-1.0-py3-none-any.whl.metadata (3.6 kB)\n",
            "Requirement already satisfied: filelock in /usr/local/lib/python3.10/dist-packages (from torch>=1.1.0->snntorch) (3.15.4)\n",
            "Requirement already satisfied: typing-extensions>=4.8.0 in /usr/local/lib/python3.10/dist-packages (from torch>=1.1.0->snntorch) (4.12.2)\n",
            "Requirement already satisfied: sympy in /usr/local/lib/python3.10/dist-packages (from torch>=1.1.0->snntorch) (1.13.2)\n",
            "Requirement already satisfied: networkx in /usr/local/lib/python3.10/dist-packages (from torch>=1.1.0->snntorch) (3.3)\n",
            "Requirement already satisfied: jinja2 in /usr/local/lib/python3.10/dist-packages (from torch>=1.1.0->snntorch) (3.1.4)\n",
            "Requirement already satisfied: fsspec in /usr/local/lib/python3.10/dist-packages (from torch>=1.1.0->snntorch) (2024.6.1)\n",
            "Requirement already satisfied: contourpy>=1.0.1 in /usr/local/lib/python3.10/dist-packages (from matplotlib->snntorch) (1.3.0)\n",
            "Requirement already satisfied: cycler>=0.10 in /usr/local/lib/python3.10/dist-packages (from matplotlib->snntorch) (0.12.1)\n",
            "Requirement already satisfied: fonttools>=4.22.0 in /usr/local/lib/python3.10/dist-packages (from matplotlib->snntorch) (4.53.1)\n",
            "Requirement already satisfied: kiwisolver>=1.0.1 in /usr/local/lib/python3.10/dist-packages (from matplotlib->snntorch) (1.4.5)\n",
            "Requirement already satisfied: packaging>=20.0 in /usr/local/lib/python3.10/dist-packages (from matplotlib->snntorch) (24.1)\n",
            "Requirement already satisfied: pillow>=6.2.0 in /usr/local/lib/python3.10/dist-packages (from matplotlib->snntorch) (9.4.0)\n",
            "Requirement already satisfied: pyparsing>=2.3.1 in /usr/local/lib/python3.10/dist-packages (from matplotlib->snntorch) (3.1.4)\n",
            "Requirement already satisfied: python-dateutil>=2.7 in /usr/local/lib/python3.10/dist-packages (from matplotlib->snntorch) (2.8.2)\n",
            "Requirement already satisfied: h5py in /usr/local/lib/python3.10/dist-packages (from nir->snntorch) (3.11.0)\n",
            "Requirement already satisfied: pytz>=2020.1 in /usr/local/lib/python3.10/dist-packages (from pandas->snntorch) (2024.1)\n",
            "Requirement already satisfied: tzdata>=2022.1 in /usr/local/lib/python3.10/dist-packages (from pandas->snntorch) (2024.1)\n",
            "Requirement already satisfied: six>=1.5 in /usr/local/lib/python3.10/dist-packages (from python-dateutil>=2.7->matplotlib->snntorch) (1.16.0)\n",
            "Requirement already satisfied: MarkupSafe>=2.0 in /usr/local/lib/python3.10/dist-packages (from jinja2->torch>=1.1.0->snntorch) (2.1.5)\n",
            "Requirement already satisfied: mpmath<1.4,>=1.1.0 in /usr/local/lib/python3.10/dist-packages (from sympy->torch>=1.1.0->snntorch) (1.3.0)\n",
            "Downloading snntorch-0.9.1-py2.py3-none-any.whl (125 kB)\n",
            "\u001b[2K   \u001b[90m━━━━━━━━━━━━━━━━━━━━━━━━━━━━━━━━━━━━━━━━\u001b[0m \u001b[32m125.3/125.3 kB\u001b[0m \u001b[31m12.6 MB/s\u001b[0m eta \u001b[36m0:00:00\u001b[0m\n",
            "\u001b[?25hDownloading nir-1.0.4-py3-none-any.whl (18 kB)\n",
            "Downloading nirtorch-1.0-py3-none-any.whl (13 kB)\n",
            "Installing collected packages: nir, nirtorch, snntorch\n",
            "Successfully installed nir-1.0.4 nirtorch-1.0 snntorch-0.9.1\n"
          ]
        }
      ]
    },
    {
      "cell_type": "code",
      "source": [
        "import snntorch as snn\n",
        "import snntorch.utils as sutils\n",
        "import snntorch.functional as sF"
      ],
      "metadata": {
        "id": "xQjNjeqyq60F"
      },
      "execution_count": 4,
      "outputs": []
    },
    {
      "cell_type": "code",
      "source": [
        "scnn = nn.Sequential(\n",
        "    nn.Conv2d(3, 32, 3, padding='same', bias=False),\n",
        "    nn.BatchNorm2d(32),\n",
        "    snn.Leaky(beta=1.0, init_hidden=True),\n",
        "    nn.AvgPool2d(2),\n",
        "    nn.Conv2d(32, 64, 3, padding='same', bias=False),\n",
        "    nn.BatchNorm2d(64),\n",
        "    snn.Leaky(beta=1.0, init_hidden=True),\n",
        "    nn.AvgPool2d(2), #[batch, channels, 16, 16] -> [batch, channels, 8, 8]\n",
        "    nn.Flatten(), # -> [batch, channels*8*8]\n",
        "    nn.Linear(8*8*64, 1024, bias=False),\n",
        "    snn.Leaky(beta=1.0, init_hidden=True),\n",
        "    nn.Linear(1024, 10, bias=False), # -> [batch, channels*8*8]\n",
        "    snn.Leaky(beta=1.0)\n",
        ")"
      ],
      "metadata": {
        "id": "1HMOYMG0Mm55",
        "collapsed": true
      },
      "execution_count": 5,
      "outputs": []
    },
    {
      "cell_type": "code",
      "source": [
        "#torch.save(cnn.state_dict(), 'simple_cnn.pth')\n",
        "cnn_state_dict = torch.load('simple_cnn.pth', weights_only=True)"
      ],
      "metadata": {
        "id": "dtZIDv9pxdKA",
        "collapsed": true
      },
      "execution_count": 6,
      "outputs": []
    },
    {
      "cell_type": "markdown",
      "source": [
        "conversion"
      ],
      "metadata": {
        "id": "0-yrOt0-7KEu"
      }
    },
    {
      "cell_type": "code",
      "source": [
        "#conversion\n",
        "scnn_state_dict = {}\n",
        "scnn_state_dict = {k: v for k, v in cnn_state_dict.items() if k in scnn.state_dict()}\n",
        "scnn_state_dict['9.weight'] = cnn_state_dict['10.weight']\n",
        "scnn_state_dict['11.weight'] = cnn_state_dict['13.weight']\n",
        "\n",
        "scnn.load_state_dict(scnn_state_dict, strict=False)"
      ],
      "metadata": {
        "colab": {
          "base_uri": "https://localhost:8080/"
        },
        "collapsed": true,
        "id": "xKG84N1sMhg3",
        "outputId": "87f704e7-c89e-451d-c554-4bd60f1cbddc"
      },
      "execution_count": 7,
      "outputs": [
        {
          "output_type": "execute_result",
          "data": {
            "text/plain": [
              "_IncompatibleKeys(missing_keys=['2.threshold', '2.graded_spikes_factor', '2.reset_mechanism_val', '2.beta', '6.threshold', '6.graded_spikes_factor', '6.reset_mechanism_val', '6.beta', '10.threshold', '10.graded_spikes_factor', '10.reset_mechanism_val', '10.beta', '12.threshold', '12.graded_spikes_factor', '12.reset_mechanism_val', '12.beta'], unexpected_keys=[])"
            ]
          },
          "metadata": {},
          "execution_count": 7
        }
      ]
    },
    {
      "cell_type": "code",
      "source": [
        "criterion = sF.ce_count_loss()\n",
        "#acc = sF.accuracy_rate()"
      ],
      "metadata": {
        "id": "7jLLHbBB6qLz"
      },
      "execution_count": 8,
      "outputs": []
    },
    {
      "cell_type": "code",
      "source": [
        "batch = 64\n",
        "epochs = 1\n",
        "timesteps = 256\n",
        "device = torch.device('cuda' if torch.cuda.is_available() else 'cpu')\n",
        "scnn.to(device)\n",
        "\n",
        "for epoch in range(epochs):\n",
        "    scnn.eval()\n",
        "    loss = 0\n",
        "    correct = 0\n",
        "    with torch.no_grad():\n",
        "        for data, target in tqdm(train_loader):\n",
        "            data, target = data.to(device), target.to(device)\n",
        "            sutils.reset(scnn)\n",
        "            spk_step = []\n",
        "            for step in range(timesteps):\n",
        "                spk, mem = scnn(data) #len(spk)= 64(batch)\n",
        "                spk_step.append(spk)\n",
        "                del spk, mem\n",
        "            spk_batch = torch.stack(spk_step) #spk_batch.shape = [timesteps, batch, class]\n",
        "\n",
        "            loss += criterion(spk_batch, target).item()\n",
        "            _, pred = spk_batch.sum(dim=0).max(1)\n",
        "            correct += (pred == target).sum().item()\n",
        "\n",
        "            del spk_batch, spk_step\n",
        "            torch.cuda.empty_cache()\n",
        "        #n = len(test_loader.dataset)\n",
        "        N = len(train_loader.dataset)\n",
        "        print(loss/N, correct*100/N)\n",
        "#timesteps = 4, [68.39 ,62.58]\n",
        "#timesteps = 16, [74,368, 67.42]\n",
        "#timesteps = 64, [74.944, 67.73]\n",
        "#timesteps = 128, [75.018, ]\n",
        "#timesteps = 256, [75.042]\n",
        "#cnn = [87, 78]"
      ],
      "metadata": {
        "id": "fTDiLH6867MR",
        "colab": {
          "base_uri": "https://localhost:8080/"
        },
        "outputId": "a4aa8173-5b6e-4647-b417-72768a4b3efc"
      },
      "execution_count": 10,
      "outputs": [
        {
          "output_type": "stream",
          "name": "stderr",
          "text": [
            "100%|██████████| 782/782 [06:45<00:00,  1.93it/s]"
          ]
        },
        {
          "output_type": "stream",
          "name": "stdout",
          "text": [
            "0.29229616631150246 75.042\n"
          ]
        },
        {
          "output_type": "stream",
          "name": "stderr",
          "text": [
            "\n"
          ]
        }
      ]
    }
  ]
}