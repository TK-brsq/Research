{
  "nbformat": 4,
  "nbformat_minor": 0,
  "metadata": {
    "colab": {
      "provenance": [],
      "collapsed_sections": [
        "Pb7KUxBTL3FQ",
        "F834LYBlN6ym",
        "eoaQue-D6Srm",
        "08GnFgTerWAt",
        "I0ersTL6uiPt",
        "P8kg-gorqMMC"
      ],
      "authorship_tag": "ABX9TyOwdarWdVeOlaijT5tHHPlJ",
      "include_colab_link": true
    },
    "kernelspec": {
      "name": "python3",
      "display_name": "Python 3"
    },
    "language_info": {
      "name": "python"
    }
  },
  "cells": [
    {
      "cell_type": "markdown",
      "metadata": {
        "id": "view-in-github",
        "colab_type": "text"
      },
      "source": [
        "<a href=\"https://colab.research.google.com/github/TK-brsq/Research/blob/main/SimCLR_by_Resnet.ipynb\" target=\"_parent\"><img src=\"https://colab.research.google.com/assets/colab-badge.svg\" alt=\"Open In Colab\"/></a>"
      ]
    },
    {
      "cell_type": "markdown",
      "source": [
        "# Import and Data"
      ],
      "metadata": {
        "id": "Pb7KUxBTL3FQ"
      }
    },
    {
      "cell_type": "code",
      "execution_count": null,
      "metadata": {
        "id": "Yc9oTR_5LutH"
      },
      "outputs": [],
      "source": [
        "import torch\n",
        "import torch.nn as nn\n",
        "import torch.nn.functional as F\n",
        "import torch.optim as optim\n",
        "from torch.optim import lr_scheduler as lr_scheduler\n",
        "import torch.utils as utils\n",
        "from torch.utils.data import DataLoader, ConcatDataset\n",
        "\n",
        "import torchvision\n",
        "from torchvision import datasets, transforms\n",
        "\n",
        "from tqdm import tqdm\n",
        "import numpy as np"
      ]
    },
    {
      "cell_type": "code",
      "source": [
        "#ここでdata augumentation\n",
        "class CutOut:\n",
        "    def __init__(self, size=10):\n",
        "        self.size = size\n",
        "    def __call__(self, img):\n",
        "        img = np.array(img)\n",
        "        h = torch.randint(0, 32-self.size, (1,))\n",
        "        w = torch.randint(0, 32-self.size, (1,))\n",
        "        img[:, h:h + self.size, w:w + self.size] = 0\n",
        "        img = transforms.ToPILImage()(img)\n",
        "        return img\n",
        "\n",
        "class ImgAugmentation:\n",
        "    def __init__(self):\n",
        "        cutout = CutOut()\n",
        "        color_jitter = transforms.ColorJitter(0.5, 0.5, 0.5, 0.5)\n",
        "        self.transform = transforms.Compose([\n",
        "            transforms.RandomHorizontalFlip(p=0.5),\n",
        "            transforms.RandomApply([cutout], p=0.5),\n",
        "            transforms.RandomApply([color_jitter], p=0.8),\n",
        "            transforms.ToTensor()\n",
        "        ])\n",
        "    def __call__(self, x):\n",
        "        return self.transform(x), self.transform(x)\n",
        "\n",
        "train = datasets.CIFAR10(root='./data', train=True, transform=ImgAugmentation(), download=True)\n",
        "test = datasets.CIFAR10(root='./data', train=False, transform=ImgAugmentation(), download=True)\n",
        "all = ConcatDataset([train, test])\n",
        "\n",
        "all_loader = DataLoader(all, batch_size=256, shuffle=True, drop_last=True)#60,000data"
      ],
      "metadata": {
        "id": "mNPEs8QPM3hK",
        "colab": {
          "base_uri": "https://localhost:8080/"
        },
        "collapsed": true,
        "outputId": "65d3d053-7db1-429d-a8d3-2e6af615eabe"
      },
      "execution_count": null,
      "outputs": [
        {
          "output_type": "stream",
          "name": "stdout",
          "text": [
            "Downloading https://www.cs.toronto.edu/~kriz/cifar-10-python.tar.gz to ./data/cifar-10-python.tar.gz\n"
          ]
        },
        {
          "output_type": "stream",
          "name": "stderr",
          "text": [
            "100%|██████████| 170498071/170498071 [00:18<00:00, 9137534.30it/s]\n"
          ]
        },
        {
          "output_type": "stream",
          "name": "stdout",
          "text": [
            "Extracting ./data/cifar-10-python.tar.gz to ./data\n",
            "Files already downloaded and verified\n"
          ]
        }
      ]
    },
    {
      "cell_type": "code",
      "source": [
        "#STL10のsize=96"
      ],
      "metadata": {
        "id": "nYVvoAA71nmp"
      },
      "execution_count": null,
      "outputs": []
    },
    {
      "cell_type": "markdown",
      "source": [
        "# Model"
      ],
      "metadata": {
        "id": "F834LYBlN6ym"
      }
    },
    {
      "cell_type": "code",
      "source": [
        "#resnet18 = torch.hub.load('pytorch/vision:v0.10.0', 'resnet18', pretrained=False)\n",
        "#resnet18.fc = nn.Identity()\n",
        "# invalid size"
      ],
      "metadata": {
        "id": "0v_ss8TZmI3c"
      },
      "execution_count": null,
      "outputs": []
    },
    {
      "cell_type": "code",
      "source": [
        "class BasicBlock(nn.Module):\n",
        "    def __init__(self, in_c, out_c, down_sampling=False):\n",
        "        super(BasicBlock, self).__init__()\n",
        "        if down_sampling:\n",
        "            self.stride = 2\n",
        "            self.convds = nn.Conv2d(in_c, out_c, 2, 2)\n",
        "        else:\n",
        "            self.stride = 1\n",
        "        self.down_sampling = down_sampling\n",
        "        self.conv1 = nn.Conv2d(in_c, out_c, 3, self.stride, 1)\n",
        "        self.bn1 = nn.BatchNorm2d(out_c)\n",
        "        self.relu = nn.ReLU()\n",
        "        self.conv2 = nn.Conv2d(out_c, out_c, 3, 1, 1)\n",
        "        self.maxpool = nn.MaxPool2d(2)\n",
        "\n",
        "    def forward(self, x):\n",
        "        skip = x\n",
        "        x = self.conv1(x)\n",
        "        x = self.bn1(x)\n",
        "        x = self.relu(x)\n",
        "        x = self.conv2(x)\n",
        "        if self.down_sampling:\n",
        "            skip = self.convds(skip)\n",
        "        else: pass\n",
        "        x += skip\n",
        "        x = self.relu(x)\n",
        "\n",
        "        return x\n",
        "\n",
        "class ResNet18(nn.Module):\n",
        "    def __init__(self):\n",
        "        super(ResNet18, self).__init__()\n",
        "        self.conv1 = nn.Conv2d(3, 64, 3, 2, 1)\n",
        "        self.relu = nn.ReLU()\n",
        "        self.maxpool = nn.MaxPool2d(2)\n",
        "        self.block11 = BasicBlock(64, 64)\n",
        "        self.block12 = BasicBlock(64, 64)\n",
        "        self.block21 = BasicBlock(64, 128, True)\n",
        "        self.block22 = BasicBlock(128, 128)\n",
        "        self.block31 = BasicBlock(128, 256, True)\n",
        "        self.block32 = BasicBlock(256, 256)\n",
        "        self.block41 = BasicBlock(256, 512, True)\n",
        "        self.block42 = BasicBlock(512, 512)\n",
        "        self.avgpool = nn.AdaptiveAvgPool2d((1, 1))\n",
        "        self.flatten = nn.Flatten()\n",
        "\n",
        "    def forward(self, x):\n",
        "        #1\n",
        "        x = self.conv1(x) #[3, 96, 96] -> [64, 48, 48]\n",
        "        x = relu(x)\n",
        "        #2\n",
        "        x = self.maxpool(x) #[64, 48, 48] -> [64, 24, 24]\n",
        "        x = self.block11(x) #[64, 24, 24] -> [64, 24, 24]\n",
        "        x = self.block12(x)\n",
        "        #3\n",
        "        x = self.block21(x) #[64, 24, 24] -> [128, 12, 12]\n",
        "        x = self.block22(x)\n",
        "        #4\n",
        "        x = self.block31(x) #[128, 12, 12] -> [256, 6, 6]\n",
        "        x = self.block32(x)\n",
        "        #5\n",
        "        x = self.block41(x) #[256, 6, 6] -> [512, 3, 3]\n",
        "        x = self.block42(x)\n",
        "        #6\n",
        "        x = self.avgpool(x) #[512, 3, 3] -> [512, 1, 1]\n",
        "        x = self.flatten(x)\n",
        "\n",
        "        return x"
      ],
      "metadata": {
        "id": "zlM47Rrzw9Wm"
      },
      "execution_count": null,
      "outputs": []
    },
    {
      "cell_type": "code",
      "source": [
        "class SimCLR(nn.Module):\n",
        "    def __init__(self, encoder):\n",
        "        super(SimCLR, self).__init__()\n",
        "        self.encoder = encoder\n",
        "        self.projector = nn.Sequential(\n",
        "            nn.Linear(4*4*128, 1024),\n",
        "            nn.Linear(1024, 64)\n",
        "        )\n",
        "\n",
        "    def forward(self, xi, xj):#([b, c, h, w], [b, c, h, w]) -> ([b, dim], [b, dim])\n",
        "        hi = self.encoder(xi)\n",
        "        hj = self.encoder(xj)\n",
        "        zi = self.projector(hi)\n",
        "        zj = self.projector(hj)\n",
        "        return zi, zj"
      ],
      "metadata": {
        "id": "mCUqwWbp-s55"
      },
      "execution_count": null,
      "outputs": []
    },
    {
      "cell_type": "markdown",
      "source": [
        "# NT-Xent Loss"
      ],
      "metadata": {
        "id": "eoaQue-D6Srm"
      }
    },
    {
      "cell_type": "code",
      "source": [
        "class NT_Xent(nn.Module):\n",
        "    def __init__(self, batch_size=256):\n",
        "        super(NT_Xent, self).__init__()\n",
        "        self.device = torch.device('cuda')\n",
        "        self.batch_size = batch_size\n",
        "        self.mask = self.make_mask(batch_size)\n",
        "        self.similarity = nn.CosineSimilarity(dim=2)\n",
        "        self.criterion = nn.CrossEntropyLoss(reduction='sum')\n",
        "\n",
        "    def make_mask(self, batch_size):\n",
        "        mask = torch.ones((2*batch_size, 2*batch_size))\n",
        "        mask = mask.fill_diagonal_(0)\n",
        "        ones = torch.ones((batch_size))\n",
        "        mask = mask - torch.diag(ones, batch_size) - torch.diag(ones, -batch_size)\n",
        "        return mask.bool()\n",
        "\n",
        "    def forward(self, zi, zj):\n",
        "        z = torch.cat((zi, zj), dim=0)#z = [2b, 2f]\n",
        "\n",
        "        sim = 10 * self.similarity(z.unsqueeze(1), z.unsqueeze(0))#sim = [2b, 2b]\n",
        "        sim_ij = torch.diag(sim, self.batch_size)#sim_ij = [b, 1]\n",
        "        sim_ji = torch.diag(sim, -self.batch_size)#sim_ji = [b, 1]\n",
        "\n",
        "        positive = torch.cat((sim_ij, sim_ji), dim=0).reshape(2*self.batch_size, 1)#positive = [2b, 1]\n",
        "        negative = sim[self.mask].reshape(2*self.batch_size, -1)#negative = [2b, 2b-2]\n",
        "\n",
        "        target = torch.zeros(2*self.batch_size, dtype=torch.long).to(self.device)#index=0が正解クラス\n",
        "        logits = torch.cat((positive, negative), dim=1)#pred = [2b, 2b-1], index=0にpositiveそれ以外はnegative\n",
        "        loss = self.criterion(logits, target)\n",
        "        loss /= 2 * self.batch_size\n",
        "\n",
        "        return loss"
      ],
      "metadata": {
        "collapsed": true,
        "id": "VvakuHFO8Ozx"
      },
      "execution_count": null,
      "outputs": []
    },
    {
      "cell_type": "markdown",
      "source": [
        "# Checkpoint"
      ],
      "metadata": {
        "id": "08GnFgTerWAt"
      }
    },
    {
      "cell_type": "code",
      "source": [
        "def save_checkpoint(epoch, model, optimizer, scheduler, criterion):\n",
        "    checkpoint = {\n",
        "        'epoch': epoch,\n",
        "        'model_sd': model.state_dict(),\n",
        "        'optimizer_sd': optimizer.state_dict(),\n",
        "        'scheduler_sd': scheduler.state_dict(),\n",
        "        'criterion': criterion\n",
        "    }\n",
        "    torch.save(checkpoint, f'simclr_epoch{epoch}.pth')\n",
        "\n",
        "def load_checkpoint(filename, model, optimizer, scheduler):\n",
        "    checkpoint = torch.load(filename)\n",
        "\n",
        "    epoch = checkpoint['epoch']\n",
        "    criterion = checkpoint['criterion']\n",
        "    model.load_state_dict(checkpoint['model_sd'])\n",
        "    optimizer.load_state_dict(checkpoint['optimizer_sd'])\n",
        "    scheduler.load_state_dict(checkpoint['scheduler_sd'])\n",
        "\n",
        "    return epoch, criterion"
      ],
      "metadata": {
        "id": "Ic-zN-ALrYUd"
      },
      "execution_count": null,
      "outputs": []
    },
    {
      "cell_type": "markdown",
      "source": [
        "# Contrastive Learning"
      ],
      "metadata": {
        "id": "I0ersTL6uiPt"
      }
    },
    {
      "cell_type": "code",
      "source": [
        "simclr = SimCLR(encoder)\n",
        "optimizer = optim.Adam(simclr.parameters())\n",
        "scheduler = lr_scheduler.CosineAnnealingLR(optimizer, T_max=8, eta_min=1e-4)\n",
        "nt_xent = NT_Xent()"
      ],
      "metadata": {
        "id": "j13sIJYiuj7w"
      },
      "execution_count": null,
      "outputs": []
    },
    {
      "cell_type": "code",
      "source": [
        "epoch, loss = load_checkpoint('simclr_epochx.pth', simclr, optimizer, scheduler)"
      ],
      "metadata": {
        "colab": {
          "base_uri": "https://localhost:8080/"
        },
        "id": "ISvunvD33dyJ",
        "outputId": "165f02a7-2e12-4bac-fb03-014fdaecea4e"
      },
      "execution_count": null,
      "outputs": [
        {
          "output_type": "stream",
          "name": "stderr",
          "text": [
            "<ipython-input-47-617ecc2607de>:12: FutureWarning: You are using `torch.load` with `weights_only=False` (the current default value), which uses the default pickle module implicitly. It is possible to construct malicious pickle data which will execute arbitrary code during unpickling (See https://github.com/pytorch/pytorch/blob/main/SECURITY.md#untrusted-models for more details). In a future release, the default value for `weights_only` will be flipped to `True`. This limits the functions that could be executed during unpickling. Arbitrary objects will no longer be allowed to be loaded via this mode unless they are explicitly allowlisted by the user via `torch.serialization.add_safe_globals`. We recommend you start setting `weights_only=True` for any use case where you don't have full control of the loaded file. Please open an issue on GitHub for any issues related to this experimental feature.\n",
            "  checkpoint = torch.load(filename)\n"
          ]
        }
      ]
    },
    {
      "cell_type": "code",
      "source": [
        "epochs = 8\n",
        "start_epochs = 0\n",
        "device = torch.device('cuda' if torch.cuda.is_available() else 'cpu')\n",
        "\n",
        "simclr.to(device)\n",
        "nt_xent.to(device)\n",
        "\n",
        "simclr.train()\n",
        "for epoch in range(start_epochs, epochs):\n",
        "    loss_epoch = 0\n",
        "    for (xi, xj), _ in tqdm(all_loader):\n",
        "        optimizer.zero_grad()\n",
        "\n",
        "        xi, xj = xi.to(device), xj.to(device)\n",
        "        zi, zj = simclr(xi, xj)\n",
        "        zi, zj = zi.to(device), zj.to(device)\n",
        "\n",
        "        loss = nt_xent(zi, zj)\n",
        "        loss.backward()\n",
        "        optimizer.step()\n",
        "\n",
        "        loss_epoch += loss.item()\n",
        "    scheduler.step()\n",
        "    print(f'Epoch{epoch} : loss = {loss_epoch}')\n",
        "#T4 GPU\n",
        "#epoch=8 | 2min/epoch | avgloss(0) = 1.1277, agvloss(4) = 0.146, avgloss(6) = 0.1277, avgloss(7) = 0.1233"
      ],
      "metadata": {
        "colab": {
          "base_uri": "https://localhost:8080/"
        },
        "id": "XKNWke_uvFbG",
        "outputId": "f872d9d5-4f73-437e-d974-439e2ae42bfb",
        "collapsed": true
      },
      "execution_count": null,
      "outputs": [
        {
          "output_type": "stream",
          "name": "stderr",
          "text": [
            "1it [00:02,  2.11s/it]"
          ]
        },
        {
          "output_type": "stream",
          "name": "stdout",
          "text": [
            "idx0 : 5.628911972045898\n"
          ]
        },
        {
          "output_type": "stream",
          "name": "stderr",
          "text": [
            "51it [00:26,  1.70it/s]"
          ]
        },
        {
          "output_type": "stream",
          "name": "stdout",
          "text": [
            "idx50 : 1.4876880645751953\n"
          ]
        },
        {
          "output_type": "stream",
          "name": "stderr",
          "text": [
            "101it [00:48,  2.48it/s]"
          ]
        },
        {
          "output_type": "stream",
          "name": "stdout",
          "text": [
            "idx100 : 0.667182981967926\n"
          ]
        },
        {
          "output_type": "stream",
          "name": "stderr",
          "text": [
            "151it [01:09,  2.47it/s]"
          ]
        },
        {
          "output_type": "stream",
          "name": "stdout",
          "text": [
            "idx150 : 0.5032867193222046\n"
          ]
        },
        {
          "output_type": "stream",
          "name": "stderr",
          "text": [
            "201it [01:32,  2.23it/s]"
          ]
        },
        {
          "output_type": "stream",
          "name": "stdout",
          "text": [
            "idx200 : 0.3775142431259155\n"
          ]
        },
        {
          "output_type": "stream",
          "name": "stderr",
          "text": [
            "234it [01:47,  2.17it/s]\n"
          ]
        },
        {
          "output_type": "stream",
          "name": "stdout",
          "text": [
            "Epoch0 : loss = 1.1277423371107151\n"
          ]
        },
        {
          "output_type": "stream",
          "name": "stderr",
          "text": [
            "1it [00:00,  2.43it/s]"
          ]
        },
        {
          "output_type": "stream",
          "name": "stdout",
          "text": [
            "idx0 : 0.3416915237903595\n"
          ]
        },
        {
          "output_type": "stream",
          "name": "stderr",
          "text": [
            "51it [00:24,  2.45it/s]"
          ]
        },
        {
          "output_type": "stream",
          "name": "stdout",
          "text": [
            "idx50 : 0.3053037226200104\n"
          ]
        },
        {
          "output_type": "stream",
          "name": "stderr",
          "text": [
            "101it [00:45,  2.24it/s]"
          ]
        },
        {
          "output_type": "stream",
          "name": "stdout",
          "text": [
            "idx100 : 0.2668510675430298\n"
          ]
        },
        {
          "output_type": "stream",
          "name": "stderr",
          "text": [
            "151it [01:09,  2.37it/s]"
          ]
        },
        {
          "output_type": "stream",
          "name": "stdout",
          "text": [
            "idx150 : 0.22591030597686768\n"
          ]
        },
        {
          "output_type": "stream",
          "name": "stderr",
          "text": [
            "201it [01:30,  2.02it/s]"
          ]
        },
        {
          "output_type": "stream",
          "name": "stdout",
          "text": [
            "idx200 : 0.27110421657562256\n"
          ]
        },
        {
          "output_type": "stream",
          "name": "stderr",
          "text": [
            "234it [01:45,  2.23it/s]\n"
          ]
        },
        {
          "output_type": "stream",
          "name": "stdout",
          "text": [
            "Epoch1 : loss = 0.2665347072303805\n"
          ]
        },
        {
          "output_type": "stream",
          "name": "stderr",
          "text": [
            "1it [00:00,  2.51it/s]"
          ]
        },
        {
          "output_type": "stream",
          "name": "stdout",
          "text": [
            "idx0 : 0.21391044557094574\n"
          ]
        },
        {
          "output_type": "stream",
          "name": "stderr",
          "text": [
            "51it [00:21,  2.44it/s]"
          ]
        },
        {
          "output_type": "stream",
          "name": "stdout",
          "text": [
            "idx50 : 0.2049366980791092\n"
          ]
        },
        {
          "output_type": "stream",
          "name": "stderr",
          "text": [
            "101it [00:42,  2.48it/s]"
          ]
        },
        {
          "output_type": "stream",
          "name": "stdout",
          "text": [
            "idx100 : 0.18282517790794373\n"
          ]
        },
        {
          "output_type": "stream",
          "name": "stderr",
          "text": [
            "151it [01:04,  2.47it/s]"
          ]
        },
        {
          "output_type": "stream",
          "name": "stdout",
          "text": [
            "idx150 : 0.179269939661026\n"
          ]
        },
        {
          "output_type": "stream",
          "name": "stderr",
          "text": [
            "201it [01:25,  2.26it/s]"
          ]
        },
        {
          "output_type": "stream",
          "name": "stdout",
          "text": [
            "idx200 : 0.18979308009147644\n"
          ]
        },
        {
          "output_type": "stream",
          "name": "stderr",
          "text": [
            "234it [01:39,  2.34it/s]\n"
          ]
        },
        {
          "output_type": "stream",
          "name": "stdout",
          "text": [
            "Epoch2 : loss = 0.19696918562946156\n"
          ]
        },
        {
          "output_type": "stream",
          "name": "stderr",
          "text": [
            "1it [00:00,  2.51it/s]"
          ]
        },
        {
          "output_type": "stream",
          "name": "stdout",
          "text": [
            "idx0 : 0.16481374204158783\n"
          ]
        },
        {
          "output_type": "stream",
          "name": "stderr",
          "text": [
            "51it [00:21,  2.07it/s]"
          ]
        },
        {
          "output_type": "stream",
          "name": "stdout",
          "text": [
            "idx50 : 0.16170160472393036\n"
          ]
        },
        {
          "output_type": "stream",
          "name": "stderr",
          "text": [
            "101it [00:42,  2.48it/s]"
          ]
        },
        {
          "output_type": "stream",
          "name": "stdout",
          "text": [
            "idx100 : 0.1504020392894745\n"
          ]
        },
        {
          "output_type": "stream",
          "name": "stderr",
          "text": [
            "151it [01:04,  2.47it/s]"
          ]
        },
        {
          "output_type": "stream",
          "name": "stdout",
          "text": [
            "idx150 : 0.1607716828584671\n"
          ]
        },
        {
          "output_type": "stream",
          "name": "stderr",
          "text": [
            "201it [01:25,  2.43it/s]"
          ]
        },
        {
          "output_type": "stream",
          "name": "stdout",
          "text": [
            "idx200 : 0.163396418094635\n"
          ]
        },
        {
          "output_type": "stream",
          "name": "stderr",
          "text": [
            "234it [01:39,  2.34it/s]\n"
          ]
        },
        {
          "output_type": "stream",
          "name": "stdout",
          "text": [
            "Epoch3 : loss = 0.16467901395681578\n"
          ]
        },
        {
          "output_type": "stream",
          "name": "stderr",
          "text": [
            "1it [00:00,  2.48it/s]"
          ]
        },
        {
          "output_type": "stream",
          "name": "stdout",
          "text": [
            "idx0 : 0.15396012365818024\n"
          ]
        },
        {
          "output_type": "stream",
          "name": "stderr",
          "text": [
            "51it [00:21,  2.41it/s]"
          ]
        },
        {
          "output_type": "stream",
          "name": "stdout",
          "text": [
            "idx50 : 0.13757817447185516\n"
          ]
        },
        {
          "output_type": "stream",
          "name": "stderr",
          "text": [
            "101it [00:42,  2.12it/s]"
          ]
        },
        {
          "output_type": "stream",
          "name": "stdout",
          "text": [
            "idx100 : 0.14650285243988037\n"
          ]
        },
        {
          "output_type": "stream",
          "name": "stderr",
          "text": [
            "151it [01:05,  2.43it/s]"
          ]
        },
        {
          "output_type": "stream",
          "name": "stdout",
          "text": [
            "idx150 : 0.15862494707107544\n"
          ]
        },
        {
          "output_type": "stream",
          "name": "stderr",
          "text": [
            "201it [01:26,  2.50it/s]"
          ]
        },
        {
          "output_type": "stream",
          "name": "stdout",
          "text": [
            "idx200 : 0.13836175203323364\n"
          ]
        },
        {
          "output_type": "stream",
          "name": "stderr",
          "text": [
            "234it [01:41,  2.31it/s]\n"
          ]
        },
        {
          "output_type": "stream",
          "name": "stdout",
          "text": [
            "Epoch4 : loss = 0.14653580820458567\n"
          ]
        },
        {
          "output_type": "stream",
          "name": "stderr",
          "text": [
            "1it [00:00,  2.43it/s]"
          ]
        },
        {
          "output_type": "stream",
          "name": "stdout",
          "text": [
            "idx0 : 0.13746285438537598\n"
          ]
        },
        {
          "output_type": "stream",
          "name": "stderr",
          "text": [
            "51it [00:22,  2.41it/s]"
          ]
        },
        {
          "output_type": "stream",
          "name": "stdout",
          "text": [
            "idx50 : 0.13520996272563934\n"
          ]
        },
        {
          "output_type": "stream",
          "name": "stderr",
          "text": [
            "101it [00:44,  2.46it/s]"
          ]
        },
        {
          "output_type": "stream",
          "name": "stdout",
          "text": [
            "idx100 : 0.12420349568128586\n"
          ]
        },
        {
          "output_type": "stream",
          "name": "stderr",
          "text": [
            "151it [01:06,  2.16it/s]"
          ]
        },
        {
          "output_type": "stream",
          "name": "stdout",
          "text": [
            "idx150 : 0.13044075667858124\n"
          ]
        },
        {
          "output_type": "stream",
          "name": "stderr",
          "text": [
            "201it [01:27,  2.42it/s]"
          ]
        },
        {
          "output_type": "stream",
          "name": "stdout",
          "text": [
            "idx200 : 0.12338107824325562\n"
          ]
        },
        {
          "output_type": "stream",
          "name": "stderr",
          "text": [
            "234it [01:41,  2.30it/s]\n"
          ]
        },
        {
          "output_type": "stream",
          "name": "stdout",
          "text": [
            "Epoch5 : loss = 0.1348522774493083\n"
          ]
        },
        {
          "output_type": "stream",
          "name": "stderr",
          "text": [
            "1it [00:00,  1.97it/s]"
          ]
        },
        {
          "output_type": "stream",
          "name": "stdout",
          "text": [
            "idx0 : 0.13929934799671173\n"
          ]
        },
        {
          "output_type": "stream",
          "name": "stderr",
          "text": [
            "51it [00:21,  2.48it/s]"
          ]
        },
        {
          "output_type": "stream",
          "name": "stdout",
          "text": [
            "idx50 : 0.12594427168369293\n"
          ]
        },
        {
          "output_type": "stream",
          "name": "stderr",
          "text": [
            "101it [00:42,  2.50it/s]"
          ]
        },
        {
          "output_type": "stream",
          "name": "stdout",
          "text": [
            "idx100 : 0.12747791409492493\n"
          ]
        },
        {
          "output_type": "stream",
          "name": "stderr",
          "text": [
            "151it [01:04,  2.43it/s]"
          ]
        },
        {
          "output_type": "stream",
          "name": "stdout",
          "text": [
            "idx150 : 0.12982724606990814\n"
          ]
        },
        {
          "output_type": "stream",
          "name": "stderr",
          "text": [
            "201it [01:25,  1.98it/s]"
          ]
        },
        {
          "output_type": "stream",
          "name": "stdout",
          "text": [
            "idx200 : 0.12980495393276215\n"
          ]
        },
        {
          "output_type": "stream",
          "name": "stderr",
          "text": [
            "234it [01:39,  2.35it/s]\n"
          ]
        },
        {
          "output_type": "stream",
          "name": "stdout",
          "text": [
            "Epoch6 : loss = 0.12770037072846013\n"
          ]
        },
        {
          "output_type": "stream",
          "name": "stderr",
          "text": [
            "1it [00:00,  2.45it/s]"
          ]
        },
        {
          "output_type": "stream",
          "name": "stdout",
          "text": [
            "idx0 : 0.1211642473936081\n"
          ]
        },
        {
          "output_type": "stream",
          "name": "stderr",
          "text": [
            "51it [00:21,  2.21it/s]"
          ]
        },
        {
          "output_type": "stream",
          "name": "stdout",
          "text": [
            "idx50 : 0.1251055896282196\n"
          ]
        },
        {
          "output_type": "stream",
          "name": "stderr",
          "text": [
            "101it [00:42,  2.51it/s]"
          ]
        },
        {
          "output_type": "stream",
          "name": "stdout",
          "text": [
            "idx100 : 0.12269064038991928\n"
          ]
        },
        {
          "output_type": "stream",
          "name": "stderr",
          "text": [
            "151it [01:03,  2.48it/s]"
          ]
        },
        {
          "output_type": "stream",
          "name": "stdout",
          "text": [
            "idx150 : 0.11967761069536209\n"
          ]
        },
        {
          "output_type": "stream",
          "name": "stderr",
          "text": [
            "201it [01:25,  2.26it/s]"
          ]
        },
        {
          "output_type": "stream",
          "name": "stdout",
          "text": [
            "idx200 : 0.11613039672374725\n"
          ]
        },
        {
          "output_type": "stream",
          "name": "stderr",
          "text": [
            "234it [01:39,  2.36it/s]"
          ]
        },
        {
          "output_type": "stream",
          "name": "stdout",
          "text": [
            "Epoch7 : loss = 0.12334921351100644\n"
          ]
        },
        {
          "output_type": "stream",
          "name": "stderr",
          "text": [
            "\n"
          ]
        }
      ]
    },
    {
      "cell_type": "code",
      "source": [
        "save_checkpoint(8, simclr, optimizer, scheduler, loss_epoch)"
      ],
      "metadata": {
        "id": "xZ7fCLqMtyhp"
      },
      "execution_count": null,
      "outputs": []
    },
    {
      "cell_type": "markdown",
      "source": [
        "# Classifier"
      ],
      "metadata": {
        "id": "P8kg-gorqMMC"
      }
    },
    {
      "cell_type": "code",
      "source": [
        "transform = transforms.Compose([transforms.ToTensor()])\n",
        "\n",
        "train_inf = datasets.CIFAR10('./data', train=True, transform=transform, download=True)\n",
        "test_inf = datasets.CIFAR10('./data', train=False, transform=transform)\n",
        "\n",
        "train_inf_loader = DataLoader(train_inf, batch_size=256, shuffle=True, drop_last=True)\n",
        "test_inf_loader = DataLoader(test_inf, batch_size=256, shuffle=True, drop_last=True)"
      ],
      "metadata": {
        "colab": {
          "base_uri": "https://localhost:8080/"
        },
        "id": "a3PmjK12daDo",
        "outputId": "e9940ad8-acbc-4e24-93be-885b278e32cb"
      },
      "execution_count": null,
      "outputs": [
        {
          "output_type": "stream",
          "name": "stdout",
          "text": [
            "Files already downloaded and verified\n"
          ]
        }
      ]
    },
    {
      "cell_type": "code",
      "source": [
        "classifier = nn.Sequential(\n",
        "    nn.Linear(4*4*128, 10)\n",
        ")"
      ],
      "metadata": {
        "id": "OeW9n88CZeWl"
      },
      "execution_count": null,
      "outputs": []
    },
    {
      "cell_type": "code",
      "source": [
        "optimizer_inf = optim.Adam(classifier.parameters())\n",
        "scheduler_inf = lr_scheduler.ExponentialLR(optimizer, gamma=0.8)\n",
        "criterion_inf = nn.CrossEntropyLoss()\n",
        "\n",
        "epochs_inf = 4\n",
        "start_epochs_inf = 0\n",
        "device = torch.device('cuda' if torch.cuda.is_available() else 'cpu')\n",
        "encoder.to(device)\n",
        "classifier.to(device)\n",
        "\n",
        "N = len(train_inf_loader.dataset)\n",
        "n = len(test_inf_loader.dataset)\n",
        "\n",
        "encoder.eval()\n",
        "for epoch in range(start_epochs_inf, epochs_inf):\n",
        "    tr_loss = 0\n",
        "    tr_corr = 0\n",
        "    classifier.train()\n",
        "    for data, target in tqdm(train_inf_loader):\n",
        "        optimizer_inf.zero_grad()\n",
        "        data, target = data.to(device), target.to(device)\n",
        "        with torch.no_grad():\n",
        "            out = encoder(data)\n",
        "        out = classifier(out)\n",
        "        loss = criterion_inf(out, target)\n",
        "        loss.backward()\n",
        "        optimizer_inf.step()\n",
        "\n",
        "        tr_loss += loss.item()\n",
        "        _, pred = out.max(1)\n",
        "        tr_corr += (pred == target).sum().item()\n",
        "    scheduler_inf.step()\n",
        "\n",
        "    ts_loss = 0\n",
        "    ts_corr = 0\n",
        "    classifier.eval()\n",
        "    for data, target in tqdm(test_inf_loader):\n",
        "        data, target = data.to(device), target.to(device)\n",
        "        with torch.no_grad():\n",
        "            out = encoder(data)\n",
        "            out = classifier(out)\n",
        "            loss = criterion_inf(out, target)\n",
        "        ts_loss += loss.item()\n",
        "        _, pred = out.max(1)\n",
        "        ts_corr += (pred == target).sum().item()\n",
        "    print(f'Epoch{epoch} : {tr_loss}, {tr_corr*100/N} | {ts_loss}, {ts_corr*100/n}')\n",
        "#2min/epoch\n",
        "#49%"
      ],
      "metadata": {
        "colab": {
          "base_uri": "https://localhost:8080/"
        },
        "id": "WvG3Hrqfb63O",
        "outputId": "04c227bd-c1ae-46ed-f9cb-fe394790a454"
      },
      "execution_count": null,
      "outputs": [
        {
          "output_type": "stream",
          "name": "stderr",
          "text": [
            "100%|██████████| 195/195 [00:08<00:00, 22.08it/s]\n",
            "100%|██████████| 39/39 [00:01<00:00, 23.84it/s]\n"
          ]
        },
        {
          "output_type": "stream",
          "name": "stdout",
          "text": [
            "Epoch0 : 310.1539113521576, 44.24 | 61.54429543018341, 45.17\n"
          ]
        },
        {
          "output_type": "stream",
          "name": "stderr",
          "text": [
            "100%|██████████| 195/195 [00:08<00:00, 22.79it/s]\n",
            "100%|██████████| 39/39 [00:01<00:00, 20.10it/s]\n"
          ]
        },
        {
          "output_type": "stream",
          "name": "stdout",
          "text": [
            "Epoch1 : 297.32441210746765, 46.806 | 59.630680561065674, 46.54\n"
          ]
        },
        {
          "output_type": "stream",
          "name": "stderr",
          "text": [
            "100%|██████████| 195/195 [00:08<00:00, 23.75it/s]\n",
            "100%|██████████| 39/39 [00:01<00:00, 19.95it/s]\n"
          ]
        },
        {
          "output_type": "stream",
          "name": "stdout",
          "text": [
            "Epoch2 : 289.3976249694824, 48.198 | 58.69546592235565, 47.95\n"
          ]
        },
        {
          "output_type": "stream",
          "name": "stderr",
          "text": [
            "100%|██████████| 195/195 [00:09<00:00, 21.25it/s]\n",
            "100%|██████████| 39/39 [00:01<00:00, 24.33it/s]"
          ]
        },
        {
          "output_type": "stream",
          "name": "stdout",
          "text": [
            "Epoch3 : 284.1865530014038, 49.1 | 58.17367923259735, 48.34\n"
          ]
        },
        {
          "output_type": "stream",
          "name": "stderr",
          "text": [
            "\n"
          ]
        }
      ]
    },
    {
      "cell_type": "code",
      "source": [
        "torch.save(classifier.state_dict(), 'classifier4ep_on_8ep.pth')"
      ],
      "metadata": {
        "id": "7u4DC27og9GX"
      },
      "execution_count": null,
      "outputs": []
    }
  ]
}