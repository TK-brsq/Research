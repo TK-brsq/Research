{
  "nbformat": 4,
  "nbformat_minor": 0,
  "metadata": {
    "colab": {
      "provenance": [],
      "authorship_tag": "ABX9TyP63AKvH42OGLiimL46ZJsQ",
      "include_colab_link": true
    },
    "kernelspec": {
      "name": "python3",
      "display_name": "Python 3"
    },
    "language_info": {
      "name": "python"
    }
  },
  "cells": [
    {
      "cell_type": "markdown",
      "metadata": {
        "id": "view-in-github",
        "colab_type": "text"
      },
      "source": [
        "<a href=\"https://colab.research.google.com/github/TK-brsq/Research/blob/main/backward.ipynb\" target=\"_parent\"><img src=\"https://colab.research.google.com/assets/colab-badge.svg\" alt=\"Open In Colab\"/></a>"
      ]
    },
    {
      "cell_type": "code",
      "source": [
        "!pip install torchviz"
      ],
      "metadata": {
        "colab": {
          "base_uri": "https://localhost:8080/"
        },
        "id": "YyoKtxLVyU3O",
        "outputId": "e012af3a-7a6b-4776-8368-eb5148b4d6f0"
      },
      "execution_count": null,
      "outputs": [
        {
          "output_type": "stream",
          "name": "stdout",
          "text": [
            "Collecting torchviz\n",
            "  Downloading torchviz-0.0.2.tar.gz (4.9 kB)\n",
            "  Preparing metadata (setup.py) ... \u001b[?25l\u001b[?25hdone\n",
            "Requirement already satisfied: torch in /usr/local/lib/python3.10/dist-packages (from torchviz) (2.4.1+cu121)\n",
            "Requirement already satisfied: graphviz in /usr/local/lib/python3.10/dist-packages (from torchviz) (0.20.3)\n",
            "Requirement already satisfied: filelock in /usr/local/lib/python3.10/dist-packages (from torch->torchviz) (3.16.1)\n",
            "Requirement already satisfied: typing-extensions>=4.8.0 in /usr/local/lib/python3.10/dist-packages (from torch->torchviz) (4.12.2)\n",
            "Requirement already satisfied: sympy in /usr/local/lib/python3.10/dist-packages (from torch->torchviz) (1.13.3)\n",
            "Requirement already satisfied: networkx in /usr/local/lib/python3.10/dist-packages (from torch->torchviz) (3.3)\n",
            "Requirement already satisfied: jinja2 in /usr/local/lib/python3.10/dist-packages (from torch->torchviz) (3.1.4)\n",
            "Requirement already satisfied: fsspec in /usr/local/lib/python3.10/dist-packages (from torch->torchviz) (2024.6.1)\n",
            "Requirement already satisfied: MarkupSafe>=2.0 in /usr/local/lib/python3.10/dist-packages (from jinja2->torch->torchviz) (2.1.5)\n",
            "Requirement already satisfied: mpmath<1.4,>=1.1.0 in /usr/local/lib/python3.10/dist-packages (from sympy->torch->torchviz) (1.3.0)\n",
            "Building wheels for collected packages: torchviz\n",
            "  Building wheel for torchviz (setup.py) ... \u001b[?25l\u001b[?25hdone\n",
            "  Created wheel for torchviz: filename=torchviz-0.0.2-py3-none-any.whl size=4132 sha256=478b1541cedaac8f27356ff0c13f5b01f3bb6e1d4bfdb75d52ae9be7f0036c52\n",
            "  Stored in directory: /root/.cache/pip/wheels/4c/97/88/a02973217949e0db0c9f4346d154085f4725f99c4f15a87094\n",
            "Successfully built torchviz\n",
            "Installing collected packages: torchviz\n",
            "Successfully installed torchviz-0.0.2\n"
          ]
        }
      ]
    },
    {
      "cell_type": "code",
      "execution_count": null,
      "metadata": {
        "id": "qWWdXpf7LYdM"
      },
      "outputs": [],
      "source": [
        "import torch\n",
        "import torch.nn as nn\n",
        "import torch.nn.functional as F\n",
        "\n",
        "from torchviz import make_dot"
      ]
    },
    {
      "cell_type": "markdown",
      "source": [
        "# Neuron"
      ],
      "metadata": {
        "id": "EXI1UuvxLdNC"
      }
    },
    {
      "cell_type": "code",
      "source": [
        "class myReLU(torch.autograd.Function):\n",
        "    @staticmethod\n",
        "    def forward(ctx, input):\n",
        "        print(f'myReLUのinput | {input}')\n",
        "        ctx.save_for_backward(input)\n",
        "        return torch.clamp(input, 0, 1)\n",
        "\n",
        "    @staticmethod\n",
        "    def backward(ctx, grad_output):\n",
        "        print(f'myReLUのgrad_output | {grad_output}')\n",
        "        input, = ctx.saved_tensors\n",
        "        grad_input = grad_output.clone()\n",
        "        grad_input[ input < 0] = 0\n",
        "        return grad_input\n",
        "\n",
        "class Neuron(nn.Module):\n",
        "    def __init__(self):\n",
        "        super(Neuron, self).__init__()\n",
        "    def forward(self, x):\n",
        "        return myReLU.apply(x)"
      ],
      "metadata": {
        "id": "Z95bOHEhLcsc"
      },
      "execution_count": null,
      "outputs": []
    },
    {
      "cell_type": "markdown",
      "source": [
        "# Model"
      ],
      "metadata": {
        "id": "iykdxmnQQ2IP"
      }
    },
    {
      "cell_type": "code",
      "source": [
        "class Model(nn.Module):\n",
        "    def __init__(self, indim, hiddim, outdim):\n",
        "        super(Model, self).__init__()\n",
        "        self.fc1 = nn.Linear(indim, hiddim, bias=False)\n",
        "        self.act1 = Neuron()\n",
        "        self.fc2 = nn.Linear(hiddim, outdim, bias=False)\n",
        "        self.act2 = Neuron()\n",
        "\n",
        "    def forward(self, x):\n",
        "        z1 = self.fc1(x)\n",
        "        print(f'z1 | {z1}')\n",
        "        a1 = self.act1(z1)\n",
        "        print(f'a1 | {a1}')\n",
        "        z2 = self.fc2(a1)\n",
        "        print(f'z2 | {z2}')\n",
        "        a2 = self.act2(z2)\n",
        "        print(f'a2 | {a2}')\n",
        "        return a2"
      ],
      "metadata": {
        "id": "IFs1LGLlQ8Sl"
      },
      "execution_count": null,
      "outputs": []
    },
    {
      "cell_type": "markdown",
      "source": [
        "# Train"
      ],
      "metadata": {
        "id": "ajoQLL-ZUGX0"
      }
    },
    {
      "cell_type": "code",
      "source": [
        "model = Model(2, 4, 2)\n",
        "\n",
        "data = torch.tensor([0.5, 0.1])\n",
        "target = torch.tensor([0., 1.])\n",
        "\n",
        "print(model.fc1.weight)\n",
        "print(model.fc2.weight)\n",
        "out = model(data)\n",
        "\n",
        "criterion = nn.CrossEntropyLoss(reduction='sum')\n",
        "loss = criterion(out, data)\n",
        "print(loss.item())\n",
        "\n",
        "dot_before_backward = make_dot(loss, params=dict(model.named_parameters()))\n",
        "dot_before_backward.render('computational_graph_before_backward', format='png')\n",
        "dot_before_backward"
      ],
      "metadata": {
        "colab": {
          "base_uri": "https://localhost:8080/",
          "height": 1000
        },
        "id": "ArGiABIOUHwP",
        "outputId": "ed527e10-2c8a-4231-b0bf-cf1399b7641c"
      },
      "execution_count": null,
      "outputs": [
        {
          "output_type": "stream",
          "name": "stdout",
          "text": [
            "Parameter containing:\n",
            "tensor([[ 0.3179,  0.2404],\n",
            "        [-0.5783,  0.2120],\n",
            "        [ 0.6746, -0.1471],\n",
            "        [-0.6846, -0.0759]], requires_grad=True)\n",
            "Parameter containing:\n",
            "tensor([[-0.1692,  0.1680,  0.2148, -0.3061],\n",
            "        [-0.0289,  0.1947, -0.4692, -0.3550]], requires_grad=True)\n",
            "z1 | tensor([ 0.1830, -0.2680,  0.3226, -0.3499], grad_fn=<SqueezeBackward4>)\n",
            "myReLUのinput | tensor([ 0.1830, -0.2680,  0.3226, -0.3499], grad_fn=<SqueezeBackward4>)\n",
            "a1 | tensor([0.1830, 0.0000, 0.3226, 0.0000], grad_fn=<myReLUBackward>)\n",
            "z2 | tensor([ 0.0383, -0.1566], grad_fn=<SqueezeBackward4>)\n",
            "myReLUのinput | tensor([ 0.0383, -0.1566], grad_fn=<SqueezeBackward4>)\n",
            "a2 | tensor([0.0383, 0.0000], grad_fn=<myReLUBackward>)\n",
            "0.4083290100097656\n"
          ]
        },
        {
          "output_type": "execute_result",
          "data": {
            "image/svg+xml": "<?xml version=\"1.0\" encoding=\"UTF-8\" standalone=\"no\"?>\n<!DOCTYPE svg PUBLIC \"-//W3C//DTD SVG 1.1//EN\"\n \"http://www.w3.org/Graphics/SVG/1.1/DTD/svg11.dtd\">\n<!-- Generated by graphviz version 2.43.0 (0)\n -->\n<!-- Title: %3 Pages: 1 -->\n<svg width=\"323pt\" height=\"864pt\"\n viewBox=\"0.00 0.00 323.40 864.00\" xmlns=\"http://www.w3.org/2000/svg\" xmlns:xlink=\"http://www.w3.org/1999/xlink\">\n<g id=\"graph0\" class=\"graph\" transform=\"scale(0.96 0.96) rotate(0) translate(4 895)\">\n<title>%3</title>\n<polygon fill=\"white\" stroke=\"transparent\" points=\"-4,4 -4,-895 332.5,-895 332.5,4 -4,4\"/>\n<!-- 137911440845184 -->\n<g id=\"node1\" class=\"node\">\n<title>137911440845184</title>\n<polygon fill=\"#caff70\" stroke=\"black\" points=\"277.5,-31 223.5,-31 223.5,0 277.5,0 277.5,-31\"/>\n<text text-anchor=\"middle\" x=\"250.5\" y=\"-7\" font-family=\"monospace\" font-size=\"10.00\"> ()</text>\n</g>\n<!-- 137911443957472 -->\n<g id=\"node2\" class=\"node\">\n<title>137911443957472</title>\n<polygon fill=\"lightgrey\" stroke=\"black\" points=\"295,-86 206,-86 206,-67 295,-67 295,-86\"/>\n<text text-anchor=\"middle\" x=\"250.5\" y=\"-74\" font-family=\"monospace\" font-size=\"10.00\">DivBackward1</text>\n</g>\n<!-- 137911443957472&#45;&gt;137911440845184 -->\n<g id=\"edge20\" class=\"edge\">\n<title>137911443957472&#45;&gt;137911440845184</title>\n<path fill=\"none\" stroke=\"black\" d=\"M250.5,-66.79C250.5,-60.07 250.5,-50.4 250.5,-41.34\"/>\n<polygon fill=\"black\" stroke=\"black\" points=\"254,-41.19 250.5,-31.19 247,-41.19 254,-41.19\"/>\n</g>\n<!-- 137911443955600 -->\n<g id=\"node3\" class=\"node\">\n<title>137911443955600</title>\n<polygon fill=\"lightgrey\" stroke=\"black\" points=\"295,-141 206,-141 206,-122 295,-122 295,-141\"/>\n<text text-anchor=\"middle\" x=\"250.5\" y=\"-129\" font-family=\"monospace\" font-size=\"10.00\">NegBackward0</text>\n</g>\n<!-- 137911443955600&#45;&gt;137911443957472 -->\n<g id=\"edge1\" class=\"edge\">\n<title>137911443955600&#45;&gt;137911443957472</title>\n<path fill=\"none\" stroke=\"black\" d=\"M250.5,-121.75C250.5,-114.8 250.5,-104.85 250.5,-96.13\"/>\n<polygon fill=\"black\" stroke=\"black\" points=\"254,-96.09 250.5,-86.09 247,-96.09 254,-96.09\"/>\n</g>\n<!-- 137911443954448 -->\n<g id=\"node4\" class=\"node\">\n<title>137911443954448</title>\n<polygon fill=\"lightgrey\" stroke=\"black\" points=\"295,-196 206,-196 206,-177 295,-177 295,-196\"/>\n<text text-anchor=\"middle\" x=\"250.5\" y=\"-184\" font-family=\"monospace\" font-size=\"10.00\">SumBackward0</text>\n</g>\n<!-- 137911443954448&#45;&gt;137911443955600 -->\n<g id=\"edge2\" class=\"edge\">\n<title>137911443954448&#45;&gt;137911443955600</title>\n<path fill=\"none\" stroke=\"black\" d=\"M250.5,-176.75C250.5,-169.8 250.5,-159.85 250.5,-151.13\"/>\n<polygon fill=\"black\" stroke=\"black\" points=\"254,-151.09 250.5,-141.09 247,-151.09 254,-151.09\"/>\n</g>\n<!-- 137911443959440 -->\n<g id=\"node5\" class=\"node\">\n<title>137911443959440</title>\n<polygon fill=\"lightgrey\" stroke=\"black\" points=\"295,-251 206,-251 206,-232 295,-232 295,-251\"/>\n<text text-anchor=\"middle\" x=\"250.5\" y=\"-239\" font-family=\"monospace\" font-size=\"10.00\">MulBackward0</text>\n</g>\n<!-- 137911443959440&#45;&gt;137911443954448 -->\n<g id=\"edge3\" class=\"edge\">\n<title>137911443959440&#45;&gt;137911443954448</title>\n<path fill=\"none\" stroke=\"black\" d=\"M250.5,-231.75C250.5,-224.8 250.5,-214.85 250.5,-206.13\"/>\n<polygon fill=\"black\" stroke=\"black\" points=\"254,-206.09 250.5,-196.09 247,-206.09 254,-206.09\"/>\n</g>\n<!-- 137911443955936 -->\n<g id=\"node6\" class=\"node\">\n<title>137911443955936</title>\n<polygon fill=\"lightgrey\" stroke=\"black\" points=\"316,-306 185,-306 185,-287 316,-287 316,-306\"/>\n<text text-anchor=\"middle\" x=\"250.5\" y=\"-294\" font-family=\"monospace\" font-size=\"10.00\">LogSoftmaxBackward0</text>\n</g>\n<!-- 137911443955936&#45;&gt;137911443959440 -->\n<g id=\"edge4\" class=\"edge\">\n<title>137911443955936&#45;&gt;137911443959440</title>\n<path fill=\"none\" stroke=\"black\" d=\"M250.5,-286.75C250.5,-279.8 250.5,-269.85 250.5,-261.13\"/>\n<polygon fill=\"black\" stroke=\"black\" points=\"254,-261.09 250.5,-251.09 247,-261.09 254,-261.09\"/>\n</g>\n<!-- 137911468473552 -->\n<g id=\"node7\" class=\"node\">\n<title>137911468473552</title>\n<polygon fill=\"lightgrey\" stroke=\"black\" points=\"301,-361 200,-361 200,-342 301,-342 301,-361\"/>\n<text text-anchor=\"middle\" x=\"250.5\" y=\"-349\" font-family=\"monospace\" font-size=\"10.00\">myReLUBackward</text>\n</g>\n<!-- 137911468473552&#45;&gt;137911443955936 -->\n<g id=\"edge5\" class=\"edge\">\n<title>137911468473552&#45;&gt;137911443955936</title>\n<path fill=\"none\" stroke=\"black\" d=\"M250.5,-341.75C250.5,-334.8 250.5,-324.85 250.5,-316.13\"/>\n<polygon fill=\"black\" stroke=\"black\" points=\"254,-316.09 250.5,-306.09 247,-316.09 254,-316.09\"/>\n</g>\n<!-- 137911443957232 -->\n<g id=\"node8\" class=\"node\">\n<title>137911443957232</title>\n<polygon fill=\"lightgrey\" stroke=\"black\" points=\"256,-422 143,-422 143,-403 256,-403 256,-422\"/>\n<text text-anchor=\"middle\" x=\"199.5\" y=\"-410\" font-family=\"monospace\" font-size=\"10.00\">SqueezeBackward4</text>\n</g>\n<!-- 137911443957232&#45;&gt;137911468473552 -->\n<g id=\"edge6\" class=\"edge\">\n<title>137911443957232&#45;&gt;137911468473552</title>\n<path fill=\"none\" stroke=\"black\" d=\"M207.03,-402.79C214.71,-393.91 226.82,-379.89 236.31,-368.91\"/>\n<polygon fill=\"black\" stroke=\"black\" points=\"239.05,-371.1 242.94,-361.24 233.76,-366.52 239.05,-371.1\"/>\n</g>\n<!-- 137911443953536 -->\n<g id=\"node9\" class=\"node\">\n<title>137911443953536</title>\n<polygon fill=\"lightgrey\" stroke=\"black\" points=\"241,-483 158,-483 158,-464 241,-464 241,-483\"/>\n<text text-anchor=\"middle\" x=\"199.5\" y=\"-471\" font-family=\"monospace\" font-size=\"10.00\">MmBackward0</text>\n</g>\n<!-- 137911443953536&#45;&gt;137911443957232 -->\n<g id=\"edge7\" class=\"edge\">\n<title>137911443953536&#45;&gt;137911443957232</title>\n<path fill=\"none\" stroke=\"black\" d=\"M199.5,-463.79C199.5,-455.6 199.5,-443.06 199.5,-432.55\"/>\n<polygon fill=\"black\" stroke=\"black\" points=\"203,-432.24 199.5,-422.24 196,-432.24 203,-432.24\"/>\n</g>\n<!-- 137911443953248 -->\n<g id=\"node10\" class=\"node\">\n<title>137911443953248</title>\n<polygon fill=\"lightgrey\" stroke=\"black\" points=\"203,-538 78,-538 78,-519 203,-519 203,-538\"/>\n<text text-anchor=\"middle\" x=\"140.5\" y=\"-526\" font-family=\"monospace\" font-size=\"10.00\">UnsqueezeBackward0</text>\n</g>\n<!-- 137911443953248&#45;&gt;137911443953536 -->\n<g id=\"edge8\" class=\"edge\">\n<title>137911443953248&#45;&gt;137911443953536</title>\n<path fill=\"none\" stroke=\"black\" d=\"M149.98,-518.98C158.7,-511.15 171.84,-499.34 182.4,-489.86\"/>\n<polygon fill=\"black\" stroke=\"black\" points=\"184.75,-492.46 189.85,-483.17 180.07,-487.25 184.75,-492.46\"/>\n</g>\n<!-- 137911468473824 -->\n<g id=\"node11\" class=\"node\">\n<title>137911468473824</title>\n<polygon fill=\"lightgrey\" stroke=\"black\" points=\"191,-593 90,-593 90,-574 191,-574 191,-593\"/>\n<text text-anchor=\"middle\" x=\"140.5\" y=\"-581\" font-family=\"monospace\" font-size=\"10.00\">myReLUBackward</text>\n</g>\n<!-- 137911468473824&#45;&gt;137911443953248 -->\n<g id=\"edge9\" class=\"edge\">\n<title>137911468473824&#45;&gt;137911443953248</title>\n<path fill=\"none\" stroke=\"black\" d=\"M140.5,-573.75C140.5,-566.8 140.5,-556.85 140.5,-548.13\"/>\n<polygon fill=\"black\" stroke=\"black\" points=\"144,-548.09 140.5,-538.09 137,-548.09 144,-548.09\"/>\n</g>\n<!-- 137911443948496 -->\n<g id=\"node12\" class=\"node\">\n<title>137911443948496</title>\n<polygon fill=\"lightgrey\" stroke=\"black\" points=\"113,-654 0,-654 0,-635 113,-635 113,-654\"/>\n<text text-anchor=\"middle\" x=\"56.5\" y=\"-642\" font-family=\"monospace\" font-size=\"10.00\">SqueezeBackward4</text>\n</g>\n<!-- 137911443948496&#45;&gt;137911468473824 -->\n<g id=\"edge10\" class=\"edge\">\n<title>137911443948496&#45;&gt;137911468473824</title>\n<path fill=\"none\" stroke=\"black\" d=\"M68.89,-634.79C82.37,-625.33 104.12,-610.05 120.12,-598.81\"/>\n<polygon fill=\"black\" stroke=\"black\" points=\"122.16,-601.66 128.33,-593.05 118.13,-595.93 122.16,-601.66\"/>\n</g>\n<!-- 137911443956560 -->\n<g id=\"node13\" class=\"node\">\n<title>137911443956560</title>\n<polygon fill=\"lightgrey\" stroke=\"black\" points=\"98,-715 15,-715 15,-696 98,-696 98,-715\"/>\n<text text-anchor=\"middle\" x=\"56.5\" y=\"-703\" font-family=\"monospace\" font-size=\"10.00\">MmBackward0</text>\n</g>\n<!-- 137911443956560&#45;&gt;137911443948496 -->\n<g id=\"edge11\" class=\"edge\">\n<title>137911443956560&#45;&gt;137911443948496</title>\n<path fill=\"none\" stroke=\"black\" d=\"M56.5,-695.79C56.5,-687.6 56.5,-675.06 56.5,-664.55\"/>\n<polygon fill=\"black\" stroke=\"black\" points=\"60,-664.24 56.5,-654.24 53,-664.24 60,-664.24\"/>\n</g>\n<!-- 137911443951136 -->\n<g id=\"node14\" class=\"node\">\n<title>137911443951136</title>\n<polygon fill=\"lightgrey\" stroke=\"black\" points=\"95,-770 18,-770 18,-751 95,-751 95,-770\"/>\n<text text-anchor=\"middle\" x=\"56.5\" y=\"-758\" font-family=\"monospace\" font-size=\"10.00\">TBackward0</text>\n</g>\n<!-- 137911443951136&#45;&gt;137911443956560 -->\n<g id=\"edge12\" class=\"edge\">\n<title>137911443951136&#45;&gt;137911443956560</title>\n<path fill=\"none\" stroke=\"black\" d=\"M56.5,-750.75C56.5,-743.8 56.5,-733.85 56.5,-725.13\"/>\n<polygon fill=\"black\" stroke=\"black\" points=\"60,-725.09 56.5,-715.09 53,-725.09 60,-725.09\"/>\n</g>\n<!-- 137911443957184 -->\n<g id=\"node15\" class=\"node\">\n<title>137911443957184</title>\n<polygon fill=\"lightgrey\" stroke=\"black\" points=\"107,-825 6,-825 6,-806 107,-806 107,-825\"/>\n<text text-anchor=\"middle\" x=\"56.5\" y=\"-813\" font-family=\"monospace\" font-size=\"10.00\">AccumulateGrad</text>\n</g>\n<!-- 137911443957184&#45;&gt;137911443951136 -->\n<g id=\"edge13\" class=\"edge\">\n<title>137911443957184&#45;&gt;137911443951136</title>\n<path fill=\"none\" stroke=\"black\" d=\"M56.5,-805.75C56.5,-798.8 56.5,-788.85 56.5,-780.13\"/>\n<polygon fill=\"black\" stroke=\"black\" points=\"60,-780.09 56.5,-770.09 53,-780.09 60,-780.09\"/>\n</g>\n<!-- 137911440843664 -->\n<g id=\"node16\" class=\"node\">\n<title>137911440843664</title>\n<polygon fill=\"lightblue\" stroke=\"black\" points=\"95,-891 18,-891 18,-861 95,-861 95,-891\"/>\n<text text-anchor=\"middle\" x=\"56.5\" y=\"-879\" font-family=\"monospace\" font-size=\"10.00\">fc1.weight</text>\n<text text-anchor=\"middle\" x=\"56.5\" y=\"-868\" font-family=\"monospace\" font-size=\"10.00\"> (4, 2)</text>\n</g>\n<!-- 137911440843664&#45;&gt;137911443957184 -->\n<g id=\"edge14\" class=\"edge\">\n<title>137911440843664&#45;&gt;137911443957184</title>\n<path fill=\"none\" stroke=\"black\" d=\"M56.5,-860.84C56.5,-853.21 56.5,-843.7 56.5,-835.45\"/>\n<polygon fill=\"black\" stroke=\"black\" points=\"60,-835.27 56.5,-825.27 53,-835.27 60,-835.27\"/>\n</g>\n<!-- 137911442830768 -->\n<g id=\"node17\" class=\"node\">\n<title>137911442830768</title>\n<polygon fill=\"orange\" stroke=\"black\" points=\"185.5,-660 131.5,-660 131.5,-629 185.5,-629 185.5,-660\"/>\n<text text-anchor=\"middle\" x=\"158.5\" y=\"-636\" font-family=\"monospace\" font-size=\"10.00\"> (4)</text>\n</g>\n<!-- 137911442830768&#45;&gt;137911468473824 -->\n<g id=\"edge15\" class=\"edge\">\n<title>137911442830768&#45;&gt;137911468473824</title>\n<path fill=\"none\" stroke=\"black\" d=\"M154.05,-628.92C151.65,-621.05 148.66,-611.25 146.1,-602.87\"/>\n<polygon fill=\"black\" stroke=\"black\" points=\"149.44,-601.79 143.17,-593.25 142.74,-603.84 149.44,-601.79\"/>\n</g>\n<!-- 137911443952144 -->\n<g id=\"node18\" class=\"node\">\n<title>137911443952144</title>\n<polygon fill=\"lightgrey\" stroke=\"black\" points=\"298,-538 221,-538 221,-519 298,-519 298,-538\"/>\n<text text-anchor=\"middle\" x=\"259.5\" y=\"-526\" font-family=\"monospace\" font-size=\"10.00\">TBackward0</text>\n</g>\n<!-- 137911443952144&#45;&gt;137911443953536 -->\n<g id=\"edge16\" class=\"edge\">\n<title>137911443952144&#45;&gt;137911443953536</title>\n<path fill=\"none\" stroke=\"black\" d=\"M249.86,-518.98C240.99,-511.15 227.63,-499.34 216.89,-489.86\"/>\n<polygon fill=\"black\" stroke=\"black\" points=\"219.13,-487.17 209.32,-483.17 214.49,-492.41 219.13,-487.17\"/>\n</g>\n<!-- 137911443955984 -->\n<g id=\"node19\" class=\"node\">\n<title>137911443955984</title>\n<polygon fill=\"lightgrey\" stroke=\"black\" points=\"310,-593 209,-593 209,-574 310,-574 310,-593\"/>\n<text text-anchor=\"middle\" x=\"259.5\" y=\"-581\" font-family=\"monospace\" font-size=\"10.00\">AccumulateGrad</text>\n</g>\n<!-- 137911443955984&#45;&gt;137911443952144 -->\n<g id=\"edge17\" class=\"edge\">\n<title>137911443955984&#45;&gt;137911443952144</title>\n<path fill=\"none\" stroke=\"black\" d=\"M259.5,-573.75C259.5,-566.8 259.5,-556.85 259.5,-548.13\"/>\n<polygon fill=\"black\" stroke=\"black\" points=\"263,-548.09 259.5,-538.09 256,-548.09 263,-548.09\"/>\n</g>\n<!-- 137911441272448 -->\n<g id=\"node20\" class=\"node\">\n<title>137911441272448</title>\n<polygon fill=\"lightblue\" stroke=\"black\" points=\"298,-659.5 221,-659.5 221,-629.5 298,-629.5 298,-659.5\"/>\n<text text-anchor=\"middle\" x=\"259.5\" y=\"-647.5\" font-family=\"monospace\" font-size=\"10.00\">fc2.weight</text>\n<text text-anchor=\"middle\" x=\"259.5\" y=\"-636.5\" font-family=\"monospace\" font-size=\"10.00\"> (2, 4)</text>\n</g>\n<!-- 137911441272448&#45;&gt;137911443955984 -->\n<g id=\"edge18\" class=\"edge\">\n<title>137911441272448&#45;&gt;137911443955984</title>\n<path fill=\"none\" stroke=\"black\" d=\"M259.5,-629.22C259.5,-621.53 259.5,-611.94 259.5,-603.61\"/>\n<polygon fill=\"black\" stroke=\"black\" points=\"263,-603.34 259.5,-593.34 256,-603.34 263,-603.34\"/>\n</g>\n<!-- 137911443122400 -->\n<g id=\"node21\" class=\"node\">\n<title>137911443122400</title>\n<polygon fill=\"orange\" stroke=\"black\" points=\"328.5,-428 274.5,-428 274.5,-397 328.5,-397 328.5,-428\"/>\n<text text-anchor=\"middle\" x=\"301.5\" y=\"-404\" font-family=\"monospace\" font-size=\"10.00\"> (2)</text>\n</g>\n<!-- 137911443122400&#45;&gt;137911468473552 -->\n<g id=\"edge19\" class=\"edge\">\n<title>137911443122400&#45;&gt;137911468473552</title>\n<path fill=\"none\" stroke=\"black\" d=\"M288.89,-396.92C281.56,-388.43 272.3,-377.72 264.71,-368.94\"/>\n<polygon fill=\"black\" stroke=\"black\" points=\"267.25,-366.53 258.06,-361.25 261.95,-371.1 267.25,-366.53\"/>\n</g>\n</g>\n</svg>\n",
            "text/plain": [
              "<graphviz.graphs.Digraph at 0x7d6e02a0b160>"
            ]
          },
          "metadata": {},
          "execution_count": 35
        }
      ]
    },
    {
      "cell_type": "code",
      "source": [
        "loss.backward(retain_graph=True)\n",
        "print(loss.item())\n",
        "\n",
        "dot = make_dot(out, params=dict(list(model.named_parameters())))\n",
        "dot.render('computational_graph', format='png')  # PNG形式で保存\n",
        "dot"
      ],
      "metadata": {
        "colab": {
          "base_uri": "https://localhost:8080/",
          "height": 906
        },
        "id": "R-fUCDR4z7Jh",
        "outputId": "3a5c73a8-95c4-4bfd-e943-3ce526a6b36c"
      },
      "execution_count": null,
      "outputs": [
        {
          "output_type": "stream",
          "name": "stdout",
          "text": [
            "myReLUのgrad_output | tensor([-0.1942,  0.1942])\n",
            "myReLUのgrad_output | tensor([ 0.0329, -0.0326, -0.0417,  0.0595])\n",
            "0.4083290100097656\n"
          ]
        },
        {
          "output_type": "execute_result",
          "data": {
            "image/svg+xml": "<?xml version=\"1.0\" encoding=\"UTF-8\" standalone=\"no\"?>\n<!DOCTYPE svg PUBLIC \"-//W3C//DTD SVG 1.1//EN\"\n \"http://www.w3.org/Graphics/SVG/1.1/DTD/svg11.dtd\">\n<!-- Generated by graphviz version 2.43.0 (0)\n -->\n<!-- Title: %3 Pages: 1 -->\n<svg width=\"337pt\" height=\"624pt\"\n viewBox=\"0.00 0.00 336.50 624.00\" xmlns=\"http://www.w3.org/2000/svg\" xmlns:xlink=\"http://www.w3.org/1999/xlink\">\n<g id=\"graph0\" class=\"graph\" transform=\"scale(1 1) rotate(0) translate(4 620)\">\n<title>%3</title>\n<polygon fill=\"white\" stroke=\"transparent\" points=\"-4,4 -4,-620 332.5,-620 332.5,4 -4,4\"/>\n<!-- 137911440839664 -->\n<g id=\"node1\" class=\"node\">\n<title>137911440839664</title>\n<polygon fill=\"#caff70\" stroke=\"black\" points=\"277.5,-31 223.5,-31 223.5,0 277.5,0 277.5,-31\"/>\n<text text-anchor=\"middle\" x=\"250.5\" y=\"-7\" font-family=\"monospace\" font-size=\"10.00\"> (2)</text>\n</g>\n<!-- 137911468473552 -->\n<g id=\"node2\" class=\"node\">\n<title>137911468473552</title>\n<polygon fill=\"lightgrey\" stroke=\"black\" points=\"301,-86 200,-86 200,-67 301,-67 301,-86\"/>\n<text text-anchor=\"middle\" x=\"250.5\" y=\"-74\" font-family=\"monospace\" font-size=\"10.00\">myReLUBackward</text>\n</g>\n<!-- 137911468473552&#45;&gt;137911440839664 -->\n<g id=\"edge15\" class=\"edge\">\n<title>137911468473552&#45;&gt;137911440839664</title>\n<path fill=\"none\" stroke=\"black\" d=\"M250.5,-66.79C250.5,-60.07 250.5,-50.4 250.5,-41.34\"/>\n<polygon fill=\"black\" stroke=\"black\" points=\"254,-41.19 250.5,-31.19 247,-41.19 254,-41.19\"/>\n</g>\n<!-- 137911443957232 -->\n<g id=\"node3\" class=\"node\">\n<title>137911443957232</title>\n<polygon fill=\"lightgrey\" stroke=\"black\" points=\"256,-147 143,-147 143,-128 256,-128 256,-147\"/>\n<text text-anchor=\"middle\" x=\"199.5\" y=\"-135\" font-family=\"monospace\" font-size=\"10.00\">SqueezeBackward4</text>\n</g>\n<!-- 137911443957232&#45;&gt;137911468473552 -->\n<g id=\"edge1\" class=\"edge\">\n<title>137911443957232&#45;&gt;137911468473552</title>\n<path fill=\"none\" stroke=\"black\" d=\"M207.03,-127.79C214.71,-118.91 226.82,-104.89 236.31,-93.91\"/>\n<polygon fill=\"black\" stroke=\"black\" points=\"239.05,-96.1 242.94,-86.24 233.76,-91.52 239.05,-96.1\"/>\n</g>\n<!-- 137911443953536 -->\n<g id=\"node4\" class=\"node\">\n<title>137911443953536</title>\n<polygon fill=\"lightgrey\" stroke=\"black\" points=\"241,-208 158,-208 158,-189 241,-189 241,-208\"/>\n<text text-anchor=\"middle\" x=\"199.5\" y=\"-196\" font-family=\"monospace\" font-size=\"10.00\">MmBackward0</text>\n</g>\n<!-- 137911443953536&#45;&gt;137911443957232 -->\n<g id=\"edge2\" class=\"edge\">\n<title>137911443953536&#45;&gt;137911443957232</title>\n<path fill=\"none\" stroke=\"black\" d=\"M199.5,-188.79C199.5,-180.6 199.5,-168.06 199.5,-157.55\"/>\n<polygon fill=\"black\" stroke=\"black\" points=\"203,-157.24 199.5,-147.24 196,-157.24 203,-157.24\"/>\n</g>\n<!-- 137911443953248 -->\n<g id=\"node5\" class=\"node\">\n<title>137911443953248</title>\n<polygon fill=\"lightgrey\" stroke=\"black\" points=\"203,-263 78,-263 78,-244 203,-244 203,-263\"/>\n<text text-anchor=\"middle\" x=\"140.5\" y=\"-251\" font-family=\"monospace\" font-size=\"10.00\">UnsqueezeBackward0</text>\n</g>\n<!-- 137911443953248&#45;&gt;137911443953536 -->\n<g id=\"edge3\" class=\"edge\">\n<title>137911443953248&#45;&gt;137911443953536</title>\n<path fill=\"none\" stroke=\"black\" d=\"M149.98,-243.98C158.7,-236.15 171.84,-224.34 182.4,-214.86\"/>\n<polygon fill=\"black\" stroke=\"black\" points=\"184.75,-217.46 189.85,-208.17 180.07,-212.25 184.75,-217.46\"/>\n</g>\n<!-- 137911468473824 -->\n<g id=\"node6\" class=\"node\">\n<title>137911468473824</title>\n<polygon fill=\"lightgrey\" stroke=\"black\" points=\"191,-318 90,-318 90,-299 191,-299 191,-318\"/>\n<text text-anchor=\"middle\" x=\"140.5\" y=\"-306\" font-family=\"monospace\" font-size=\"10.00\">myReLUBackward</text>\n</g>\n<!-- 137911468473824&#45;&gt;137911443953248 -->\n<g id=\"edge4\" class=\"edge\">\n<title>137911468473824&#45;&gt;137911443953248</title>\n<path fill=\"none\" stroke=\"black\" d=\"M140.5,-298.75C140.5,-291.8 140.5,-281.85 140.5,-273.13\"/>\n<polygon fill=\"black\" stroke=\"black\" points=\"144,-273.09 140.5,-263.09 137,-273.09 144,-273.09\"/>\n</g>\n<!-- 137911443948496 -->\n<g id=\"node7\" class=\"node\">\n<title>137911443948496</title>\n<polygon fill=\"lightgrey\" stroke=\"black\" points=\"113,-379 0,-379 0,-360 113,-360 113,-379\"/>\n<text text-anchor=\"middle\" x=\"56.5\" y=\"-367\" font-family=\"monospace\" font-size=\"10.00\">SqueezeBackward4</text>\n</g>\n<!-- 137911443948496&#45;&gt;137911468473824 -->\n<g id=\"edge5\" class=\"edge\">\n<title>137911443948496&#45;&gt;137911468473824</title>\n<path fill=\"none\" stroke=\"black\" d=\"M68.89,-359.79C82.37,-350.33 104.12,-335.05 120.12,-323.81\"/>\n<polygon fill=\"black\" stroke=\"black\" points=\"122.16,-326.66 128.33,-318.05 118.13,-320.93 122.16,-326.66\"/>\n</g>\n<!-- 137911443956560 -->\n<g id=\"node8\" class=\"node\">\n<title>137911443956560</title>\n<polygon fill=\"lightgrey\" stroke=\"black\" points=\"98,-440 15,-440 15,-421 98,-421 98,-440\"/>\n<text text-anchor=\"middle\" x=\"56.5\" y=\"-428\" font-family=\"monospace\" font-size=\"10.00\">MmBackward0</text>\n</g>\n<!-- 137911443956560&#45;&gt;137911443948496 -->\n<g id=\"edge6\" class=\"edge\">\n<title>137911443956560&#45;&gt;137911443948496</title>\n<path fill=\"none\" stroke=\"black\" d=\"M56.5,-420.79C56.5,-412.6 56.5,-400.06 56.5,-389.55\"/>\n<polygon fill=\"black\" stroke=\"black\" points=\"60,-389.24 56.5,-379.24 53,-389.24 60,-389.24\"/>\n</g>\n<!-- 137911443951136 -->\n<g id=\"node9\" class=\"node\">\n<title>137911443951136</title>\n<polygon fill=\"lightgrey\" stroke=\"black\" points=\"95,-495 18,-495 18,-476 95,-476 95,-495\"/>\n<text text-anchor=\"middle\" x=\"56.5\" y=\"-483\" font-family=\"monospace\" font-size=\"10.00\">TBackward0</text>\n</g>\n<!-- 137911443951136&#45;&gt;137911443956560 -->\n<g id=\"edge7\" class=\"edge\">\n<title>137911443951136&#45;&gt;137911443956560</title>\n<path fill=\"none\" stroke=\"black\" d=\"M56.5,-475.75C56.5,-468.8 56.5,-458.85 56.5,-450.13\"/>\n<polygon fill=\"black\" stroke=\"black\" points=\"60,-450.09 56.5,-440.09 53,-450.09 60,-450.09\"/>\n</g>\n<!-- 137911443957184 -->\n<g id=\"node10\" class=\"node\">\n<title>137911443957184</title>\n<polygon fill=\"lightgrey\" stroke=\"black\" points=\"107,-550 6,-550 6,-531 107,-531 107,-550\"/>\n<text text-anchor=\"middle\" x=\"56.5\" y=\"-538\" font-family=\"monospace\" font-size=\"10.00\">AccumulateGrad</text>\n</g>\n<!-- 137911443957184&#45;&gt;137911443951136 -->\n<g id=\"edge8\" class=\"edge\">\n<title>137911443957184&#45;&gt;137911443951136</title>\n<path fill=\"none\" stroke=\"black\" d=\"M56.5,-530.75C56.5,-523.8 56.5,-513.85 56.5,-505.13\"/>\n<polygon fill=\"black\" stroke=\"black\" points=\"60,-505.09 56.5,-495.09 53,-505.09 60,-505.09\"/>\n</g>\n<!-- 137911440843664 -->\n<g id=\"node11\" class=\"node\">\n<title>137911440843664</title>\n<polygon fill=\"lightblue\" stroke=\"black\" points=\"95,-616 18,-616 18,-586 95,-586 95,-616\"/>\n<text text-anchor=\"middle\" x=\"56.5\" y=\"-604\" font-family=\"monospace\" font-size=\"10.00\">fc1.weight</text>\n<text text-anchor=\"middle\" x=\"56.5\" y=\"-593\" font-family=\"monospace\" font-size=\"10.00\"> (4, 2)</text>\n</g>\n<!-- 137911440843664&#45;&gt;137911443957184 -->\n<g id=\"edge9\" class=\"edge\">\n<title>137911440843664&#45;&gt;137911443957184</title>\n<path fill=\"none\" stroke=\"black\" d=\"M56.5,-585.84C56.5,-578.21 56.5,-568.7 56.5,-560.45\"/>\n<polygon fill=\"black\" stroke=\"black\" points=\"60,-560.27 56.5,-550.27 53,-560.27 60,-560.27\"/>\n</g>\n<!-- 137911442830768 -->\n<g id=\"node12\" class=\"node\">\n<title>137911442830768</title>\n<polygon fill=\"orange\" stroke=\"black\" points=\"185.5,-385 131.5,-385 131.5,-354 185.5,-354 185.5,-385\"/>\n<text text-anchor=\"middle\" x=\"158.5\" y=\"-361\" font-family=\"monospace\" font-size=\"10.00\"> (4)</text>\n</g>\n<!-- 137911442830768&#45;&gt;137911468473824 -->\n<g id=\"edge10\" class=\"edge\">\n<title>137911442830768&#45;&gt;137911468473824</title>\n<path fill=\"none\" stroke=\"black\" d=\"M154.05,-353.92C151.65,-346.05 148.66,-336.25 146.1,-327.87\"/>\n<polygon fill=\"black\" stroke=\"black\" points=\"149.44,-326.79 143.17,-318.25 142.74,-328.84 149.44,-326.79\"/>\n</g>\n<!-- 137911443952144 -->\n<g id=\"node13\" class=\"node\">\n<title>137911443952144</title>\n<polygon fill=\"lightgrey\" stroke=\"black\" points=\"298,-263 221,-263 221,-244 298,-244 298,-263\"/>\n<text text-anchor=\"middle\" x=\"259.5\" y=\"-251\" font-family=\"monospace\" font-size=\"10.00\">TBackward0</text>\n</g>\n<!-- 137911443952144&#45;&gt;137911443953536 -->\n<g id=\"edge11\" class=\"edge\">\n<title>137911443952144&#45;&gt;137911443953536</title>\n<path fill=\"none\" stroke=\"black\" d=\"M249.86,-243.98C240.99,-236.15 227.63,-224.34 216.89,-214.86\"/>\n<polygon fill=\"black\" stroke=\"black\" points=\"219.13,-212.17 209.32,-208.17 214.49,-217.41 219.13,-212.17\"/>\n</g>\n<!-- 137911443955984 -->\n<g id=\"node14\" class=\"node\">\n<title>137911443955984</title>\n<polygon fill=\"lightgrey\" stroke=\"black\" points=\"310,-318 209,-318 209,-299 310,-299 310,-318\"/>\n<text text-anchor=\"middle\" x=\"259.5\" y=\"-306\" font-family=\"monospace\" font-size=\"10.00\">AccumulateGrad</text>\n</g>\n<!-- 137911443955984&#45;&gt;137911443952144 -->\n<g id=\"edge12\" class=\"edge\">\n<title>137911443955984&#45;&gt;137911443952144</title>\n<path fill=\"none\" stroke=\"black\" d=\"M259.5,-298.75C259.5,-291.8 259.5,-281.85 259.5,-273.13\"/>\n<polygon fill=\"black\" stroke=\"black\" points=\"263,-273.09 259.5,-263.09 256,-273.09 263,-273.09\"/>\n</g>\n<!-- 137911441272448 -->\n<g id=\"node15\" class=\"node\">\n<title>137911441272448</title>\n<polygon fill=\"lightblue\" stroke=\"black\" points=\"298,-384.5 221,-384.5 221,-354.5 298,-354.5 298,-384.5\"/>\n<text text-anchor=\"middle\" x=\"259.5\" y=\"-372.5\" font-family=\"monospace\" font-size=\"10.00\">fc2.weight</text>\n<text text-anchor=\"middle\" x=\"259.5\" y=\"-361.5\" font-family=\"monospace\" font-size=\"10.00\"> (2, 4)</text>\n</g>\n<!-- 137911441272448&#45;&gt;137911443955984 -->\n<g id=\"edge13\" class=\"edge\">\n<title>137911441272448&#45;&gt;137911443955984</title>\n<path fill=\"none\" stroke=\"black\" d=\"M259.5,-354.22C259.5,-346.53 259.5,-336.94 259.5,-328.61\"/>\n<polygon fill=\"black\" stroke=\"black\" points=\"263,-328.34 259.5,-318.34 256,-328.34 263,-328.34\"/>\n</g>\n<!-- 137911443122400 -->\n<g id=\"node16\" class=\"node\">\n<title>137911443122400</title>\n<polygon fill=\"orange\" stroke=\"black\" points=\"328.5,-153 274.5,-153 274.5,-122 328.5,-122 328.5,-153\"/>\n<text text-anchor=\"middle\" x=\"301.5\" y=\"-129\" font-family=\"monospace\" font-size=\"10.00\"> (2)</text>\n</g>\n<!-- 137911443122400&#45;&gt;137911468473552 -->\n<g id=\"edge14\" class=\"edge\">\n<title>137911443122400&#45;&gt;137911468473552</title>\n<path fill=\"none\" stroke=\"black\" d=\"M288.89,-121.92C281.56,-113.43 272.3,-102.72 264.71,-93.94\"/>\n<polygon fill=\"black\" stroke=\"black\" points=\"267.25,-91.53 258.06,-86.25 261.95,-96.1 267.25,-91.53\"/>\n</g>\n</g>\n</svg>\n",
            "text/plain": [
              "<graphviz.graphs.Digraph at 0x7d6e02a09ab0>"
            ]
          },
          "metadata": {},
          "execution_count": 36
        }
      ]
    }
  ]
}