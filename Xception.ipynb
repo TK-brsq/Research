{
  "nbformat": 4,
  "nbformat_minor": 0,
  "metadata": {
    "colab": {
      "provenance": [],
      "authorship_tag": "ABX9TyOkvZbFocWtbHsOyvRzKp03",
      "include_colab_link": true
    },
    "kernelspec": {
      "name": "python3",
      "display_name": "Python 3"
    },
    "language_info": {
      "name": "python"
    }
  },
  "cells": [
    {
      "cell_type": "markdown",
      "metadata": {
        "id": "view-in-github",
        "colab_type": "text"
      },
      "source": [
        "<a href=\"https://colab.research.google.com/github/TK-brsq/Research/blob/main/Xception.ipynb\" target=\"_parent\"><img src=\"https://colab.research.google.com/assets/colab-badge.svg\" alt=\"Open In Colab\"/></a>"
      ]
    },
    {
      "cell_type": "code",
      "execution_count": 2,
      "metadata": {
        "id": "PffIN19WiFSO"
      },
      "outputs": [],
      "source": [
        "import torch\n",
        "import torch.nn as nn\n",
        "import torch.optim as optim\n",
        "import torch.optim.lr_scheduler as lr_scheduler\n",
        "from torch.utils.data import DataLoader\n",
        "\n",
        "import torchvision\n",
        "from torchvision import datasets, transforms\n",
        "\n",
        "from tqdm import tqdm"
      ]
    },
    {
      "cell_type": "code",
      "source": [
        "tf = transforms.Compose([transforms.ToTensor(), transforms.Normalize((0.5, 0.5, 0.5), (0.25, 0.25, 0.25)])\n",
        "\n",
        "train = datasets.CIFAR10('./root', train=True, transform=tf, download=True)\n",
        "test = datasets.CIFAR10('./data', train=False, transform=tf, download=True)\n",
        "\n",
        "train_loader = DataLoader(train, batch_size=128, shuffle=True)\n",
        "test_loader = DataLoader(test, batch_size=128, shuffle=True)"
      ],
      "metadata": {
        "id": "knikWL6vin7b"
      },
      "execution_count": null,
      "outputs": []
    },
    {
      "cell_type": "markdown",
      "source": [
        "# Xception"
      ],
      "metadata": {
        "id": "9cacvMcciIKn"
      }
    },
    {
      "cell_type": "code",
      "source": [
        "class SeparableConv(nn.Module):\n",
        "    def __init__(self, in_c, out_c):\n",
        "        super(SeparableConv, self).__init__()\n",
        "        self.conv1 = nn.Conv2d(in_c, in_c, 3, 1, 1, 1, in_c, False)\n",
        "        self.pointwise = nn.Conv2d(in_c, out_c, 1, bias=False)\n",
        "    def forward(self, x):\n",
        "        x = self.conv1(x)\n",
        "        x = self.pointwise(x)\n",
        "        return x\n",
        "\n",
        "class Block(nn.Module):\n",
        "    def __init__(self, in_channel, out_channel, flow='entry', relu_head=False):\n",
        "        super(Block, self).__init__()\n",
        "        self.relu = nn.ReLU()\n",
        "        self.layer = []\n",
        "\n",
        "        if flow is 'entry' or flow is 'exit':\n",
        "            if relu_head:\n",
        "                layer.append(self.relu)\n",
        "            else: pass\n",
        "            layer.append(SeparableConv(in_channel, out_channel))\n",
        ""
      ],
      "metadata": {
        "id": "nGdlGLWHmwUF"
      },
      "execution_count": 3,
      "outputs": []
    }
  ]
}